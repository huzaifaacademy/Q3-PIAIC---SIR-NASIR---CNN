{
  "nbformat": 4,
  "nbformat_minor": 5,
  "metadata": {
    "kernelspec": {
      "display_name": "Python 3",
      "language": "python",
      "name": "python3"
    },
    "language_info": {
      "codemirror_mode": {
        "name": "ipython",
        "version": 3
      },
      "file_extension": ".py",
      "mimetype": "text/x-python",
      "name": "python",
      "nbconvert_exporter": "python",
      "pygments_lexer": "ipython3",
      "version": "3.8.8"
    },
    "colab": {
      "name": "Cat vs Dog.ipynb",
      "provenance": [],
      "collapsed_sections": []
    },
    "accelerator": "GPU"
  },
  "cells": [
    {
      "cell_type": "markdown",
      "metadata": {
        "id": "nlAdLU_bxxDR"
      },
      "source": [
        "**Load Data**"
      ],
      "id": "nlAdLU_bxxDR"
    },
    {
      "cell_type": "markdown",
      "metadata": {
        "id": "qFFzCPnax2V-"
      },
      "source": [
        "we have 25000 images of cat and dog (12500 for each) in original dataset dir but we are training that what we do when we have small dataset so we copy only 4000 images of cat and dog"
      ],
      "id": "qFFzCPnax2V-"
    },
    {
      "cell_type": "code",
      "metadata": {
        "colab": {
          "base_uri": "https://localhost:8080/"
        },
        "id": "jeeXwkDoRX4r",
        "outputId": "1a35d0fb-29b7-45b2-fa7a-99ed34127924"
      },
      "source": [
        "from google.colab import drive\n",
        "drive.mount('/content/drive')"
      ],
      "id": "jeeXwkDoRX4r",
      "execution_count": 1,
      "outputs": [
        {
          "output_type": "stream",
          "name": "stdout",
          "text": [
            "Mounted at /content/drive\n"
          ]
        }
      ]
    },
    {
      "cell_type": "code",
      "metadata": {
        "id": "a05ccf77"
      },
      "source": [
        "# import module\n",
        "\n",
        "import os, shutil\n",
        "# os for making dir and joining path name\n",
        "# shutil {pronounce: sh-util} for copying files from one place to another\n",
        "\n",
        "from tqdm import tqdm\n",
        "# tqdm for decorating the iteration"
      ],
      "id": "a05ccf77",
      "execution_count": 2,
      "outputs": []
    },
    {
      "cell_type": "code",
      "metadata": {
        "id": "lbxqtZsNRPlm"
      },
      "source": [
        "# Specific For Colab\n",
        "base_dir = \"drive/MyDrive/cats_and_dogs_small/cats_and_dogs_small\"\n",
        "train_dir = os.path.join(base_dir, \"train\")\n",
        "validation_dir = os.path.join(base_dir, \"validation\")\n",
        "test_dir = os.path.join(base_dir, \"test\")"
      ],
      "id": "lbxqtZsNRPlm",
      "execution_count": 3,
      "outputs": []
    },
    {
      "cell_type": "code",
      "metadata": {
        "id": "3d0012f2"
      },
      "source": [
        "# dir where we have images\n",
        "original_dataset_dir = \"originaldata/\""
      ],
      "id": "3d0012f2",
      "execution_count": null,
      "outputs": []
    },
    {
      "cell_type": "code",
      "metadata": {
        "id": "a5fdda59"
      },
      "source": [
        "# base dir where we want to copy the data\n",
        "base_dir = \"cats_and_dogs_small\""
      ],
      "id": "a5fdda59",
      "execution_count": null,
      "outputs": []
    },
    {
      "cell_type": "code",
      "metadata": {
        "id": "70841653"
      },
      "source": [
        "# create the dir\n",
        "os.mkdir(base_dir)"
      ],
      "id": "70841653",
      "execution_count": null,
      "outputs": []
    },
    {
      "cell_type": "code",
      "metadata": {
        "id": "b9e1e6a2"
      },
      "source": [
        "# dir where we have images that we use to train\n",
        "train_dir = os.path.join(base_dir, \"train\")\n",
        "os.mkdir(train_dir) # make dir"
      ],
      "id": "b9e1e6a2",
      "execution_count": null,
      "outputs": []
    },
    {
      "cell_type": "code",
      "metadata": {
        "id": "6579984d"
      },
      "source": [
        "# dir where we have images that we used in validation of model\n",
        "validation_dir = os.path.join(base_dir, \"validation\")\n",
        "os.mkdir(validation_dir) # create dir"
      ],
      "id": "6579984d",
      "execution_count": null,
      "outputs": []
    },
    {
      "cell_type": "code",
      "metadata": {
        "id": "20561030"
      },
      "source": [
        "# dir where we have images that we used to testing of model\n",
        "test_dir = os.path.join(base_dir, \"test\")\n",
        "os.mkdir(test_dir) # create dir"
      ],
      "id": "20561030",
      "execution_count": null,
      "outputs": []
    },
    {
      "cell_type": "code",
      "metadata": {
        "id": "c44c1994"
      },
      "source": [
        "# dir where we have cats images for training\n",
        "train_cats_dir = os.path.join(train_dir, \"cats\")\n",
        "os.mkdir(train_cats_dir) # create dir"
      ],
      "id": "c44c1994",
      "execution_count": null,
      "outputs": []
    },
    {
      "cell_type": "code",
      "metadata": {
        "id": "7a31a48c"
      },
      "source": [
        "# dir where we have dogs images for training\n",
        "train_dogs_dir = os.path.join(train_dir, \"dogs\")\n",
        "os.mkdir(train_dogs_dir) # create dir"
      ],
      "id": "7a31a48c",
      "execution_count": null,
      "outputs": []
    },
    {
      "cell_type": "code",
      "metadata": {
        "id": "02e14107"
      },
      "source": [
        "# dir where we have cats images for validation\n",
        "validation_cats_dir = os.path.join(validation_dir, \"cats\")\n",
        "os.mkdir(validation_cats_dir) # create dir"
      ],
      "id": "02e14107",
      "execution_count": null,
      "outputs": []
    },
    {
      "cell_type": "code",
      "metadata": {
        "id": "22057059"
      },
      "source": [
        "# dir where we have dogs images for validation\n",
        "validation_dogs_dir = os.path.join(validation_dir, \"dogs\")\n",
        "os.mkdir(validation_dogs_dir) # create dir"
      ],
      "id": "22057059",
      "execution_count": null,
      "outputs": []
    },
    {
      "cell_type": "code",
      "metadata": {
        "id": "5c56192d"
      },
      "source": [
        "# dir where we have cats images for testing\n",
        "test_cats_dir = os.path.join(test_dir, \"cats\")\n",
        "os.mkdir(test_cats_dir) # create dir"
      ],
      "id": "5c56192d",
      "execution_count": null,
      "outputs": []
    },
    {
      "cell_type": "code",
      "metadata": {
        "id": "bc4af3a2"
      },
      "source": [
        "# dir where we have dogs images for testing\n",
        "test_dogs_dir = os.path.join(test_dir, \"dogs\")\n",
        "os.mkdir(test_dogs_dir)"
      ],
      "id": "bc4af3a2",
      "execution_count": null,
      "outputs": []
    },
    {
      "cell_type": "code",
      "metadata": {
        "id": "ac8e74d6"
      },
      "source": [
        "# we have a big dataset:25000 images (12500 for each cats & dogs) each pic has prefix of its class \n",
        "#means cat images has name cat.34.jpg and same for dog class but here we learning that what should \n",
        "# we do when we have small data set so we copy only 4000 images\n",
        "#   For Training:    2000 images: 1000 for each class\n",
        "#   For Validation:  1000 images:  500 for each class\n",
        "#   For Testing:     1000 images:  500 for each class\n",
        "#                  ------------------\n",
        "#                  Total : 4000 images"
      ],
      "id": "ac8e74d6",
      "execution_count": null,
      "outputs": []
    },
    {
      "cell_type": "code",
      "metadata": {
        "id": "8bab166b",
        "outputId": "4566213e-2a95-4492-905c-eb4b3c33c340"
      },
      "source": [
        "# First, copy 1000 images of cat for training\n",
        "fnames = [\"cat.{}.jpg\".format(i) for i in range(1000)] # list first 1000 images of cat \n",
        "for fname in tqdm(fnames): # iterate on list\n",
        "    src = os.path.join(original_dataset_dir, fname) # create full path of file from working dir\n",
        "    dst = os.path.join(train_cats_dir, fname) # create full destination path of file from wrok. dir\n",
        "    shutil.copyfile(src, dst) # copy file"
      ],
      "id": "8bab166b",
      "execution_count": null,
      "outputs": [
        {
          "name": "stderr",
          "output_type": "stream",
          "text": [
            "100%|██████████████████████████████████████████████████████████████████████████████| 1000/1000 [00:19<00:00, 50.93it/s]\n"
          ]
        }
      ]
    },
    {
      "cell_type": "code",
      "metadata": {
        "id": "64e3a608",
        "outputId": "6ff6efef-58ea-4915-a655-50b327395c69"
      },
      "source": [
        "# then copy next 500 images of cat for validation\n",
        "fnames = [\"cat.{}.jpg\".format(i) for i in range(1000,1500)]\n",
        "for fname in tqdm(fnames):\n",
        "    src = os.path.join(original_dataset_dir, fname)\n",
        "    dst = os.path.join(validation_cats_dir, fname)\n",
        "    shutil.copyfile(src, dst)"
      ],
      "id": "64e3a608",
      "execution_count": null,
      "outputs": [
        {
          "name": "stderr",
          "output_type": "stream",
          "text": [
            "100%|████████████████████████████████████████████████████████████████████████████████| 500/500 [00:11<00:00, 44.93it/s]\n"
          ]
        }
      ]
    },
    {
      "cell_type": "code",
      "metadata": {
        "id": "6fcaad4c",
        "outputId": "cc056ea4-6087-468b-ca30-baac98365be5"
      },
      "source": [
        "# then copy next 500 images of cat for testing\n",
        "fnames = [\"cat.{}.jpg\".format(i) for i in range(1500, 2000)]\n",
        "for fname in tqdm(fnames):\n",
        "    src = os.path.join(original_dataset_dir, fname)\n",
        "    dst = os.path.join(test_cats_dir, fname)\n",
        "    shutil.copyfile(src, dst)"
      ],
      "id": "6fcaad4c",
      "execution_count": null,
      "outputs": [
        {
          "name": "stderr",
          "output_type": "stream",
          "text": [
            "100%|████████████████████████████████████████████████████████████████████████████████| 500/500 [00:26<00:00, 19.03it/s]\n"
          ]
        }
      ]
    },
    {
      "cell_type": "code",
      "metadata": {
        "id": "0f697b4e",
        "outputId": "59876ee0-33dc-424c-b877-db5cf47fe54e"
      },
      "source": [
        "# Copy 1000 images of dog for training\n",
        "fnames = [\"dog.{}.jpg\".format(i) for i in range(1000)]\n",
        "for fname in tqdm(fnames):\n",
        "    src = os.path.join(original_dataset_dir, fname)\n",
        "    dst = os.path.join(train_dogs_dir, fname)\n",
        "    shutil.copyfile(src, dst)"
      ],
      "id": "0f697b4e",
      "execution_count": null,
      "outputs": [
        {
          "name": "stderr",
          "output_type": "stream",
          "text": [
            "100%|██████████████████████████████████████████████████████████████████████████████| 1000/1000 [00:35<00:00, 28.32it/s]\n"
          ]
        }
      ]
    },
    {
      "cell_type": "code",
      "metadata": {
        "id": "a6615c49",
        "outputId": "9a904874-3275-485c-e974-168922c13e72"
      },
      "source": [
        "# copy next 500 images of dog for validation\n",
        "fnames = [\"dog.{}.jpg\".format(i) for i in range(1000, 1500)]\n",
        "for fname in tqdm(fnames):\n",
        "    src = os.path.join(original_dataset_dir, fname)\n",
        "    dst = os.path.join(validation_dogs_dir, fname)\n",
        "    shutil.copyfile(src, dst)"
      ],
      "id": "a6615c49",
      "execution_count": null,
      "outputs": [
        {
          "name": "stderr",
          "output_type": "stream",
          "text": [
            "100%|████████████████████████████████████████████████████████████████████████████████| 500/500 [00:17<00:00, 28.30it/s]\n"
          ]
        }
      ]
    },
    {
      "cell_type": "code",
      "metadata": {
        "id": "e6621723",
        "outputId": "46c3b5c1-5a83-46de-d4b8-b1fb8c4779bf"
      },
      "source": [
        "# copy next 500 images of dog for testing\n",
        "fnames = [\"dog.{}.jpg\".format(i) for i in range(1500, 2000)]\n",
        "for fname in tqdm(fnames):\n",
        "    src = os.path.join(original_dataset_dir, fname)\n",
        "    dst = os.path.join(test_dogs_dir, fname)\n",
        "    shutil.copyfile(src, dst)"
      ],
      "id": "e6621723",
      "execution_count": null,
      "outputs": [
        {
          "name": "stderr",
          "output_type": "stream",
          "text": [
            "100%|████████████████████████████████████████████████████████████████████████████████| 500/500 [00:15<00:00, 33.28it/s]\n"
          ]
        }
      ]
    },
    {
      "cell_type": "markdown",
      "metadata": {
        "id": "YZ1ZaRK1vKil"
      },
      "source": [
        "**Training a convnet from scratch on a small dataset Without Data Augmentation and Dropout**"
      ],
      "id": "YZ1ZaRK1vKil"
    },
    {
      "cell_type": "code",
      "metadata": {
        "id": "ae536b6b"
      },
      "source": [
        "# Build Model\n",
        "from keras import models\n",
        "from keras import layers\n",
        "\n",
        "model = models.Sequential()\n",
        "\n",
        "model.add(layers.Conv2D(32, (3,3), activation='relu', input_shape=(150,150,3)))\n",
        "model.add(layers.MaxPooling2D((2,2)))\n",
        "\n",
        "model.add(layers.Conv2D(64, (3,3), activation='relu'))\n",
        "model.add(layers.MaxPooling2D((2,2)))\n",
        "\n",
        "model.add(layers.Conv2D(128, (3,3), activation='relu'))\n",
        "model.add(layers.MaxPooling2D((2,2)))\n",
        "\n",
        "model.add(layers.Conv2D(128, (3,3), activation='relu'))\n",
        "model.add(layers.MaxPooling2D((2,2)))\n",
        "\n",
        "model.add(layers.Flatten())\n",
        "model.add(layers.Dense(512, activation='relu'))\n",
        "model.add(layers.Dense(1, activation='sigmoid'))"
      ],
      "id": "ae536b6b",
      "execution_count": null,
      "outputs": []
    },
    {
      "cell_type": "code",
      "metadata": {
        "id": "8cd02761",
        "outputId": "6273c194-e83b-4222-ced0-6c2ca458bf61"
      },
      "source": [
        "model.summary()"
      ],
      "id": "8cd02761",
      "execution_count": null,
      "outputs": [
        {
          "name": "stdout",
          "output_type": "stream",
          "text": [
            "Model: \"sequential\"\n",
            "_________________________________________________________________\n",
            "Layer (type)                 Output Shape              Param #   \n",
            "=================================================================\n",
            "conv2d (Conv2D)              (None, 148, 148, 32)      896       \n",
            "_________________________________________________________________\n",
            "max_pooling2d (MaxPooling2D) (None, 74, 74, 32)        0         \n",
            "_________________________________________________________________\n",
            "conv2d_1 (Conv2D)            (None, 72, 72, 64)        18496     \n",
            "_________________________________________________________________\n",
            "max_pooling2d_1 (MaxPooling2 (None, 36, 36, 64)        0         \n",
            "_________________________________________________________________\n",
            "conv2d_2 (Conv2D)            (None, 34, 34, 128)       73856     \n",
            "_________________________________________________________________\n",
            "max_pooling2d_2 (MaxPooling2 (None, 17, 17, 128)       0         \n",
            "_________________________________________________________________\n",
            "conv2d_3 (Conv2D)            (None, 15, 15, 128)       147584    \n",
            "_________________________________________________________________\n",
            "max_pooling2d_3 (MaxPooling2 (None, 7, 7, 128)         0         \n",
            "_________________________________________________________________\n",
            "flatten (Flatten)            (None, 6272)              0         \n",
            "_________________________________________________________________\n",
            "dense (Dense)                (None, 512)               3211776   \n",
            "_________________________________________________________________\n",
            "dense_1 (Dense)              (None, 1)                 513       \n",
            "=================================================================\n",
            "Total params: 3,453,121\n",
            "Trainable params: 3,453,121\n",
            "Non-trainable params: 0\n",
            "_________________________________________________________________\n"
          ]
        }
      ]
    },
    {
      "cell_type": "code",
      "metadata": {
        "id": "dd89ed23",
        "outputId": "69ba10df-c2b3-4521-baef-86100775516b"
      },
      "source": [
        "# Compilation of Model\n",
        "from tensorflow.keras import optimizers\n",
        "model.compile(loss='binary_crossentropy',\n",
        "optimizer=optimizers.RMSprop(lr=1e-4),\n",
        "metrics=['acc'])"
      ],
      "id": "dd89ed23",
      "execution_count": null,
      "outputs": [
        {
          "name": "stderr",
          "output_type": "stream",
          "text": [
            "C:\\Users\\Huzaifa\\Anaconda3\\lib\\site-packages\\keras\\optimizer_v2\\optimizer_v2.py:355: UserWarning: The `lr` argument is deprecated, use `learning_rate` instead.\n",
            "  warnings.warn(\n"
          ]
        }
      ]
    },
    {
      "cell_type": "code",
      "metadata": {
        "id": "09122ebd"
      },
      "source": [
        "# Create Generator for bringing one batch of data at a time to increas processing speed\n",
        "from keras.preprocessing.image import ImageDataGenerator\n",
        "\n",
        "train_datagen = ImageDataGenerator(rescale=1./255)\n",
        "test_datagen = ImageDataGenerator(rescale=1./255)\n"
      ],
      "id": "09122ebd",
      "execution_count": null,
      "outputs": []
    },
    {
      "cell_type": "code",
      "metadata": {
        "id": "b138f71d",
        "outputId": "9a1fcc55-b7d9-4d9e-9454-7eea3df1e58a"
      },
      "source": [
        "train_generator = train_datagen.flow_from_directory(train_dir,\n",
        "                                                   target_size=(150,150),\n",
        "                                                   batch_size=20,\n",
        "                                                   class_mode='binary')"
      ],
      "id": "b138f71d",
      "execution_count": null,
      "outputs": [
        {
          "name": "stdout",
          "output_type": "stream",
          "text": [
            "Found 2000 images belonging to 2 classes.\n"
          ]
        }
      ]
    },
    {
      "cell_type": "code",
      "metadata": {
        "id": "e1728ea4",
        "outputId": "0df93feb-a60b-4900-be6a-da1c39b2eaa6"
      },
      "source": [
        "validation_generator = test_datagen.flow_from_directory(validation_dir,\n",
        "                                                       target_size=(150,150),\n",
        "                                                       batch_size=20,\n",
        "                                                       class_mode='binary')"
      ],
      "id": "e1728ea4",
      "execution_count": null,
      "outputs": [
        {
          "name": "stdout",
          "output_type": "stream",
          "text": [
            "Found 1000 images belonging to 2 classes.\n"
          ]
        }
      ]
    },
    {
      "cell_type": "code",
      "metadata": {
        "id": "7956198b",
        "outputId": "3b9c3487-7750-4099-8c6c-8691e8ac48d8"
      },
      "source": [
        "# Train the model using generator \n",
        "history = model.fit_generator(train_generator,\n",
        "                             steps_per_epoch=100,\n",
        "                             epochs=30,\n",
        "                             validation_data=validation_generator,\n",
        "                             validation_steps=50)"
      ],
      "id": "7956198b",
      "execution_count": null,
      "outputs": [
        {
          "name": "stderr",
          "output_type": "stream",
          "text": [
            "C:\\Users\\Huzaifa\\Anaconda3\\lib\\site-packages\\keras\\engine\\training.py:1972: UserWarning: `Model.fit_generator` is deprecated and will be removed in a future version. Please use `Model.fit`, which supports generators.\n",
            "  warnings.warn('`Model.fit_generator` is deprecated and '\n"
          ]
        },
        {
          "name": "stdout",
          "output_type": "stream",
          "text": [
            "Epoch 1/30\n",
            "100/100 [==============================] - 145s 1s/step - loss: 0.6889 - acc: 0.5430 - val_loss: 0.6684 - val_acc: 0.6070\n",
            "Epoch 2/30\n",
            "100/100 [==============================] - 151s 2s/step - loss: 0.6568 - acc: 0.6100 - val_loss: 0.6406 - val_acc: 0.6580\n",
            "Epoch 3/30\n",
            "100/100 [==============================] - 152s 2s/step - loss: 0.6105 - acc: 0.6730 - val_loss: 0.6117 - val_acc: 0.6690\n",
            "Epoch 4/30\n",
            "100/100 [==============================] - 143s 1s/step - loss: 0.5683 - acc: 0.6995 - val_loss: 0.6545 - val_acc: 0.6380\n",
            "Epoch 5/30\n",
            "100/100 [==============================] - 149s 1s/step - loss: 0.5422 - acc: 0.7290 - val_loss: 0.5803 - val_acc: 0.6880\n",
            "Epoch 6/30\n",
            "100/100 [==============================] - 142s 1s/step - loss: 0.5119 - acc: 0.7465 - val_loss: 0.5879 - val_acc: 0.6920\n",
            "Epoch 7/30\n",
            "100/100 [==============================] - 153s 2s/step - loss: 0.4884 - acc: 0.7665 - val_loss: 0.5518 - val_acc: 0.7160\n",
            "Epoch 8/30\n",
            "100/100 [==============================] - 156s 2s/step - loss: 0.4616 - acc: 0.7740 - val_loss: 0.5554 - val_acc: 0.7010\n",
            "Epoch 9/30\n",
            "100/100 [==============================] - 142s 1s/step - loss: 0.4317 - acc: 0.8010 - val_loss: 0.5653 - val_acc: 0.7140\n",
            "Epoch 10/30\n",
            "100/100 [==============================] - 137s 1s/step - loss: 0.4112 - acc: 0.8090 - val_loss: 0.6264 - val_acc: 0.6990\n",
            "Epoch 11/30\n",
            "100/100 [==============================] - 143s 1s/step - loss: 0.3916 - acc: 0.8185 - val_loss: 0.5426 - val_acc: 0.7210\n",
            "Epoch 12/30\n",
            "100/100 [==============================] - 153s 2s/step - loss: 0.3600 - acc: 0.8465 - val_loss: 0.6581 - val_acc: 0.6940\n",
            "Epoch 13/30\n",
            "100/100 [==============================] - 134s 1s/step - loss: 0.3432 - acc: 0.8575 - val_loss: 0.6199 - val_acc: 0.6970\n",
            "Epoch 14/30\n",
            "100/100 [==============================] - 132s 1s/step - loss: 0.3213 - acc: 0.8665 - val_loss: 0.5807 - val_acc: 0.7240\n",
            "Epoch 15/30\n",
            "100/100 [==============================] - 129s 1s/step - loss: 0.2960 - acc: 0.8730 - val_loss: 0.5722 - val_acc: 0.7410\n",
            "Epoch 16/30\n",
            "100/100 [==============================] - 130s 1s/step - loss: 0.2765 - acc: 0.8865 - val_loss: 0.5623 - val_acc: 0.7350\n",
            "Epoch 17/30\n",
            "100/100 [==============================] - 130s 1s/step - loss: 0.2472 - acc: 0.9080 - val_loss: 0.6001 - val_acc: 0.7280\n",
            "Epoch 18/30\n",
            "100/100 [==============================] - 131s 1s/step - loss: 0.2256 - acc: 0.9155 - val_loss: 0.5872 - val_acc: 0.7370\n",
            "Epoch 19/30\n",
            "100/100 [==============================] - 138s 1s/step - loss: 0.2029 - acc: 0.9315 - val_loss: 0.6277 - val_acc: 0.7370\n",
            "Epoch 20/30\n",
            "100/100 [==============================] - 31151s 315s/step - loss: 0.1866 - acc: 0.9330 - val_loss: 0.6100 - val_acc: 0.7390\n",
            "Epoch 21/30\n",
            "100/100 [==============================] - 195s 2s/step - loss: 0.1684 - acc: 0.9380 - val_loss: 0.6127 - val_acc: 0.7450\n",
            "Epoch 22/30\n",
            "100/100 [==============================] - 228s 2s/step - loss: 0.1426 - acc: 0.9555 - val_loss: 0.6743 - val_acc: 0.7390\n",
            "Epoch 23/30\n",
            "100/100 [==============================] - 223s 2s/step - loss: 0.1229 - acc: 0.9615 - val_loss: 0.7551 - val_acc: 0.7160\n",
            "Epoch 24/30\n",
            "100/100 [==============================] - 218s 2s/step - loss: 0.1066 - acc: 0.9665 - val_loss: 0.7383 - val_acc: 0.7360\n",
            "Epoch 25/30\n",
            "100/100 [==============================] - 215s 2s/step - loss: 0.0912 - acc: 0.9715 - val_loss: 0.7512 - val_acc: 0.7360\n",
            "Epoch 26/30\n",
            "100/100 [==============================] - 197s 2s/step - loss: 0.0816 - acc: 0.9770 - val_loss: 0.8423 - val_acc: 0.7330\n",
            "Epoch 27/30\n",
            "100/100 [==============================] - 172s 2s/step - loss: 0.0690 - acc: 0.9775 - val_loss: 0.8571 - val_acc: 0.7360\n",
            "Epoch 28/30\n",
            "100/100 [==============================] - 206s 2s/step - loss: 0.0600 - acc: 0.9855 - val_loss: 0.9235 - val_acc: 0.7100\n",
            "Epoch 29/30\n",
            "100/100 [==============================] - 215s 2s/step - loss: 0.0439 - acc: 0.9895 - val_loss: 0.9254 - val_acc: 0.7230\n",
            "Epoch 30/30\n",
            "100/100 [==============================] - 208s 2s/step - loss: 0.0415 - acc: 0.9920 - val_loss: 0.9671 - val_acc: 0.7330\n"
          ]
        }
      ]
    },
    {
      "cell_type": "code",
      "metadata": {
        "id": "3985b966",
        "outputId": "7f28a25b-3f79-4545-835a-a279e1f14e47"
      },
      "source": [
        "# Plotting of Accuracy & Loss of Training and Validation\n",
        "import matplotlib.pyplot as plt\n",
        "\n",
        "acc = history.history['acc']\n",
        "val_acc = history.history['val_acc']\n",
        "loss = history.history['loss']\n",
        "val_loss = history.history['val_loss']\n",
        "\n",
        "epochs = range(1, len(acc) + 1)\n",
        "\n",
        "plt.plot(epochs, acc, 'bo', label='Training Accuracy')\n",
        "plt.plot(epochs, val_acc, 'b', label='Validation Accuracy')\n",
        "plt.title(\"Training And Validation Accuracy\")\n",
        "plt.legend()\n",
        "\n",
        "plt.figure()\n",
        "\n",
        "plt.plot(epochs, loss, 'bo', label=\"Training Loss\")\n",
        "plt.plot(epochs, val_loss, 'b', label=\"Validation Loss\")\n",
        "plt.title(\"Training and Validation Loss\")\n",
        "plt.legend()\n",
        "\n",
        "plt.show()"
      ],
      "id": "3985b966",
      "execution_count": null,
      "outputs": [
        {
          "data": {
            "image/png": "[encoded data removed]",
            "text/plain": [
              "<Figure size 432x288 with 1 Axes>"
            ]
          },
          "metadata": {
            "needs_background": "light"
          },
          "output_type": "display_data"
        },
        {
          "data": {
            "image/png": "[encoded data removed]",
            "text/plain": [
              "<Figure size 432x288 with 1 Axes>"
            ]
          },
          "metadata": {
            "needs_background": "light"
          },
          "output_type": "display_data"
        }
      ]
    },
    {
      "cell_type": "markdown",
      "metadata": {
        "id": "impe9G0fwX-K"
      },
      "source": [
        "**Training a convnet from scratch on a small dataset with Data Augmentation and Dropout**"
      ],
      "id": "impe9G0fwX-K"
    },
    {
      "cell_type": "code",
      "metadata": {
        "id": "78ba5de7"
      },
      "source": [
        "# Build Model\n",
        "from tensorflow.keras import models, layers, optimizers\n",
        "\n",
        "model = models.Sequential()\n",
        "\n",
        "model.add(layers.Conv2D(32, (3,3), activation='relu', input_shape=(150, 150, 3)))\n",
        "model.add(layers.MaxPooling2D((2,2)))\n",
        "\n",
        "model.add(layers.Conv2D(62, (3,3), activation='relu'))\n",
        "model.add(layers.MaxPooling2D((2,2)))\n",
        "\n",
        "model.add(layers.Conv2D(128, (3,3), activation='relu'))\n",
        "model.add(layers.MaxPooling2D((2,2)))\n",
        "\n",
        "model.add(layers.Conv2D(128, (3,3), activation='relu'))\n",
        "model.add(layers.MaxPooling2D((2,2)))\n",
        "\n",
        "model.add(layers.Flatten())\n",
        "\n",
        "model.add(layers.Dropout(0.5))\n",
        "\n",
        "model.add(layers.Dense(512, activation='relu'))\n",
        "model.add(layers.Dense(1, activation='sigmoid'))\n",
        "\n",
        "\n",
        "model.compile(optimizer=optimizers.RMSprop(learning_rate=1e-4),\n",
        "             loss='binary_crossentropy',\n",
        "             metrics=['acc'])"
      ],
      "id": "78ba5de7",
      "execution_count": null,
      "outputs": []
    },
    {
      "cell_type": "code",
      "metadata": {
        "id": "b9e55fa9"
      },
      "source": [
        "# Creating Generator with Data Augmentation\n",
        "from tensorflow.keras.preprocessing.image import ImageDataGenerator\n",
        "\n",
        "train_datagen = ImageDataGenerator(rescale=1./255,\n",
        "                                  rotation_range=40,\n",
        "                                  width_shift_range=0.2,\n",
        "                                  height_shift_range=0.2,\n",
        "                                  shear_range=0.2,\n",
        "                                  zoom_range=0.2,\n",
        "                                  horizontal_flip=True)\n",
        "\n",
        "test_datagen = ImageDataGenerator(rescale=1./255)"
      ],
      "id": "b9e55fa9",
      "execution_count": null,
      "outputs": []
    },
    {
      "cell_type": "code",
      "metadata": {
        "id": "6e56fb0a",
        "outputId": "aa822e22-b742-4bc7-9797-8fa1db3c9c5c"
      },
      "source": [
        "train_generator = train_datagen.flow_from_directory(train_dir,\n",
        "                                                   target_size=(150, 150),\n",
        "                                                   batch_size=32,\n",
        "                                                   class_mode='binary')\n",
        "\n",
        "validation_generator = test_datagen.flow_from_directory(validation_dir,\n",
        "                                                       target_size=(150,150),\n",
        "                                                       batch_size=32,\n",
        "                                                       class_mode='binary')"
      ],
      "id": "6e56fb0a",
      "execution_count": null,
      "outputs": [
        {
          "name": "stdout",
          "output_type": "stream",
          "text": [
            "Found 2000 images belonging to 2 classes.\n",
            "Found 1000 images belonging to 2 classes.\n"
          ]
        }
      ]
    },
    {
      "cell_type": "code",
      "metadata": {
        "id": "49af31cb",
        "outputId": "c8431e74-9423-4e39-c932-97007ccafa5a"
      },
      "source": [
        "# Train the model here aurgument of steps per epoch and validation steps propagate error so we remove it\n",
        "history = model.fit_generator(train_generator,\n",
        "                             epochs=100,\n",
        "                             validation_data=validation_generator)"
      ],
      "id": "49af31cb",
      "execution_count": null,
      "outputs": [
        {
          "name": "stderr",
          "output_type": "stream",
          "text": [
            "C:\\Users\\Huzaifa\\Anaconda3\\lib\\site-packages\\keras\\engine\\training.py:1972: UserWarning: `Model.fit_generator` is deprecated and will be removed in a future version. Please use `Model.fit`, which supports generators.\n",
            "  warnings.warn('`Model.fit_generator` is deprecated and '\n"
          ]
        },
        {
          "name": "stdout",
          "output_type": "stream",
          "text": [
            "Epoch 1/100\n",
            "63/63 [==============================] - 230s 4s/step - loss: 0.6945 - acc: 0.5120 - val_loss: 0.6866 - val_acc: 0.5460\n",
            "Epoch 2/100\n",
            "63/63 [==============================] - 198s 3s/step - loss: 0.6911 - acc: 0.5290 - val_loss: 0.6790 - val_acc: 0.5880\n",
            "Epoch 3/100\n",
            "63/63 [==============================] - 200s 3s/step - loss: 0.6851 - acc: 0.5370 - val_loss: 0.6669 - val_acc: 0.5660\n",
            "Epoch 4/100\n",
            "63/63 [==============================] - 192s 3s/step - loss: 0.6644 - acc: 0.5900 - val_loss: 0.7138 - val_acc: 0.5220\n",
            "Epoch 5/100\n",
            "63/63 [==============================] - -3049s -49220584us/step - loss: 0.6598 - acc: 0.6135 - val_loss: 0.6398 - val_acc: 0.6170\n",
            "Epoch 6/100\n",
            "63/63 [==============================] - 208s 3s/step - loss: 0.6485 - acc: 0.6250 - val_loss: 0.6358 - val_acc: 0.6400\n",
            "Epoch 7/100\n",
            "63/63 [==============================] - 187s 3s/step - loss: 0.6413 - acc: 0.6230 - val_loss: 0.6187 - val_acc: 0.6450\n",
            "Epoch 8/100\n",
            "63/63 [==============================] - 181s 3s/step - loss: 0.6365 - acc: 0.6435 - val_loss: 0.6005 - val_acc: 0.6830\n",
            "Epoch 9/100\n",
            "63/63 [==============================] - 209s 3s/step - loss: 0.6189 - acc: 0.6575 - val_loss: 0.5874 - val_acc: 0.6860\n",
            "Epoch 10/100\n",
            "63/63 [==============================] - 190s 3s/step - loss: 0.6096 - acc: 0.6700 - val_loss: 0.6322 - val_acc: 0.6400\n",
            "Epoch 11/100\n",
            "63/63 [==============================] - 195s 3s/step - loss: 0.6105 - acc: 0.6660 - val_loss: 0.5874 - val_acc: 0.6820\n",
            "Epoch 12/100\n",
            "63/63 [==============================] - 215s 3s/step - loss: 0.6038 - acc: 0.6730 - val_loss: 0.5667 - val_acc: 0.7010\n",
            "Epoch 13/100\n",
            "63/63 [==============================] - 221s 4s/step - loss: 0.6019 - acc: 0.6715 - val_loss: 0.5836 - val_acc: 0.6770\n",
            "Epoch 14/100\n",
            "63/63 [==============================] - 207s 3s/step - loss: 0.6037 - acc: 0.6740 - val_loss: 0.5714 - val_acc: 0.6990\n",
            "Epoch 15/100\n",
            "63/63 [==============================] - 66087s 1066s/step - loss: 0.5849 - acc: 0.6850 - val_loss: 0.5574 - val_acc: 0.7060\n",
            "Epoch 16/100\n",
            "63/63 [==============================] - 195s 3s/step - loss: 0.5782 - acc: 0.7080 - val_loss: 0.5658 - val_acc: 0.7040\n",
            "Epoch 17/100\n",
            "63/63 [==============================] - 220s 3s/step - loss: 0.5882 - acc: 0.6800 - val_loss: 0.5839 - val_acc: 0.6640\n",
            "Epoch 18/100\n",
            "63/63 [==============================] - 192s 3s/step - loss: 0.5672 - acc: 0.7055 - val_loss: 0.5508 - val_acc: 0.7130\n",
            "Epoch 19/100\n",
            "63/63 [==============================] - 180s 3s/step - loss: 0.5713 - acc: 0.6990 - val_loss: 0.5451 - val_acc: 0.7290\n",
            "Epoch 20/100\n",
            "63/63 [==============================] - 178s 3s/step - loss: 0.5750 - acc: 0.6925 - val_loss: 0.5337 - val_acc: 0.7220\n",
            "Epoch 21/100\n",
            "63/63 [==============================] - 168s 3s/step - loss: 0.5733 - acc: 0.6895 - val_loss: 0.5313 - val_acc: 0.7200\n",
            "Epoch 22/100\n",
            "63/63 [==============================] - 158s 3s/step - loss: 0.5642 - acc: 0.7070 - val_loss: 0.5396 - val_acc: 0.7170\n",
            "Epoch 23/100\n",
            "63/63 [==============================] - 163s 3s/step - loss: 0.5641 - acc: 0.7060 - val_loss: 0.5245 - val_acc: 0.7400\n",
            "Epoch 24/100\n",
            "63/63 [==============================] - 164s 3s/step - loss: 0.5442 - acc: 0.7220 - val_loss: 0.6167 - val_acc: 0.6790\n",
            "Epoch 25/100\n",
            "63/63 [==============================] - 157s 2s/step - loss: 0.5482 - acc: 0.7210 - val_loss: 0.5131 - val_acc: 0.7350\n",
            "Epoch 26/100\n",
            "63/63 [==============================] - 147s 2s/step - loss: 0.5476 - acc: 0.7065 - val_loss: 0.5073 - val_acc: 0.7420\n",
            "Epoch 27/100\n",
            "63/63 [==============================] - 141s 2s/step - loss: 0.5326 - acc: 0.7255 - val_loss: 0.5200 - val_acc: 0.7330\n",
            "Epoch 28/100\n",
            "63/63 [==============================] - 139s 2s/step - loss: 0.5394 - acc: 0.7255 - val_loss: 0.5230 - val_acc: 0.7350\n",
            "Epoch 29/100\n",
            "63/63 [==============================] - 135s 2s/step - loss: 0.5419 - acc: 0.7215 - val_loss: 0.5107 - val_acc: 0.7440\n",
            "Epoch 30/100\n",
            "63/63 [==============================] - 133s 2s/step - loss: 0.5351 - acc: 0.7225 - val_loss: 0.5119 - val_acc: 0.7420\n",
            "Epoch 31/100\n",
            "63/63 [==============================] - 134s 2s/step - loss: 0.5299 - acc: 0.7405 - val_loss: 0.4969 - val_acc: 0.7460\n",
            "Epoch 32/100\n",
            "63/63 [==============================] - 131s 2s/step - loss: 0.5415 - acc: 0.7255 - val_loss: 0.5125 - val_acc: 0.7290\n",
            "Epoch 33/100\n",
            "63/63 [==============================] - 132s 2s/step - loss: 0.5262 - acc: 0.7390 - val_loss: 0.4950 - val_acc: 0.7430\n",
            "Epoch 34/100\n",
            "63/63 [==============================] - 131s 2s/step - loss: 0.5292 - acc: 0.7320 - val_loss: 0.5086 - val_acc: 0.7320\n",
            "Epoch 35/100\n",
            "63/63 [==============================] - 131s 2s/step - loss: 0.5301 - acc: 0.7360 - val_loss: 0.5318 - val_acc: 0.7120\n",
            "Epoch 36/100\n",
            "63/63 [==============================] - 135s 2s/step - loss: 0.5281 - acc: 0.7360 - val_loss: 0.4837 - val_acc: 0.7570\n",
            "Epoch 37/100\n",
            "63/63 [==============================] - 131s 2s/step - loss: 0.5178 - acc: 0.7375 - val_loss: 0.4823 - val_acc: 0.7600\n",
            "Epoch 38/100\n",
            "63/63 [==============================] - 137s 2s/step - loss: 0.5231 - acc: 0.7335 - val_loss: 0.6015 - val_acc: 0.6760\n",
            "Epoch 39/100\n",
            "63/63 [==============================] - 137s 2s/step - loss: 0.5147 - acc: 0.7450 - val_loss: 0.5137 - val_acc: 0.7500\n",
            "Epoch 40/100\n",
            "63/63 [==============================] - 139s 2s/step - loss: 0.5170 - acc: 0.7440 - val_loss: 0.4918 - val_acc: 0.7470\n",
            "Epoch 41/100\n",
            "63/63 [==============================] - 128s 2s/step - loss: 0.5042 - acc: 0.7610 - val_loss: 0.4785 - val_acc: 0.7570\n",
            "Epoch 42/100\n",
            "63/63 [==============================] - 128s 2s/step - loss: 0.5077 - acc: 0.7425 - val_loss: 0.5094 - val_acc: 0.7380\n",
            "Epoch 43/100\n",
            "63/63 [==============================] - 131s 2s/step - loss: 0.5052 - acc: 0.7625 - val_loss: 0.5998 - val_acc: 0.6810\n",
            "Epoch 44/100\n",
            "63/63 [==============================] - 128s 2s/step - loss: 0.5156 - acc: 0.7395 - val_loss: 0.4737 - val_acc: 0.7670\n",
            "Epoch 45/100\n",
            "63/63 [==============================] - 131s 2s/step - loss: 0.4973 - acc: 0.7500 - val_loss: 0.5211 - val_acc: 0.7130\n",
            "Epoch 46/100\n",
            "63/63 [==============================] - 127s 2s/step - loss: 0.4977 - acc: 0.7465 - val_loss: 0.4572 - val_acc: 0.7770\n",
            "Epoch 47/100\n",
            "63/63 [==============================] - 128s 2s/step - loss: 0.4934 - acc: 0.7580 - val_loss: 0.5565 - val_acc: 0.7040\n",
            "Epoch 48/100\n",
            "63/63 [==============================] - 572s 9s/step - loss: 0.4963 - acc: 0.7600 - val_loss: 0.4956 - val_acc: 0.7480\n",
            "Epoch 49/100\n",
            "63/63 [==============================] - 144s 2s/step - loss: 0.4844 - acc: 0.7685 - val_loss: 0.4558 - val_acc: 0.7830\n",
            "Epoch 50/100\n",
            "63/63 [==============================] - 149s 2s/step - loss: 0.5017 - acc: 0.7505 - val_loss: 0.4710 - val_acc: 0.7550\n",
            "Epoch 51/100\n",
            "63/63 [==============================] - 146s 2s/step - loss: 0.4799 - acc: 0.7665 - val_loss: 0.4946 - val_acc: 0.7430\n",
            "Epoch 52/100\n",
            "63/63 [==============================] - 160s 3s/step - loss: 0.4827 - acc: 0.7550 - val_loss: 0.4694 - val_acc: 0.7630\n",
            "Epoch 53/100\n",
            "63/63 [==============================] - 155s 2s/step - loss: 0.4834 - acc: 0.7645 - val_loss: 0.5227 - val_acc: 0.7230\n",
            "Epoch 54/100\n",
            "63/63 [==============================] - 154s 2s/step - loss: 0.4863 - acc: 0.7650 - val_loss: 0.4615 - val_acc: 0.7710\n",
            "Epoch 55/100\n",
            "63/63 [==============================] - 152s 2s/step - loss: 0.4736 - acc: 0.7715 - val_loss: 0.5277 - val_acc: 0.7370\n",
            "Epoch 56/100\n",
            "63/63 [==============================] - 152s 2s/step - loss: 0.4867 - acc: 0.7610 - val_loss: 0.4717 - val_acc: 0.7690\n",
            "Epoch 57/100\n",
            "63/63 [==============================] - 134s 2s/step - loss: 0.4765 - acc: 0.7800 - val_loss: 0.4705 - val_acc: 0.7760\n",
            "Epoch 58/100\n",
            "63/63 [==============================] - 133s 2s/step - loss: 0.4779 - acc: 0.7795 - val_loss: 0.4794 - val_acc: 0.7550\n",
            "Epoch 59/100\n",
            "63/63 [==============================] - 130s 2s/step - loss: 0.4825 - acc: 0.7685 - val_loss: 0.4720 - val_acc: 0.7640\n",
            "Epoch 60/100\n",
            "63/63 [==============================] - 130s 2s/step - loss: 0.4678 - acc: 0.7780 - val_loss: 0.5005 - val_acc: 0.7600\n",
            "Epoch 61/100\n",
            "63/63 [==============================] - 135s 2s/step - loss: 0.4686 - acc: 0.7750 - val_loss: 0.4441 - val_acc: 0.7780\n",
            "Epoch 62/100\n",
            "63/63 [==============================] - 129s 2s/step - loss: 0.4655 - acc: 0.7810 - val_loss: 0.5065 - val_acc: 0.7390\n",
            "Epoch 63/100\n",
            "63/63 [==============================] - 133s 2s/step - loss: 0.4696 - acc: 0.7740 - val_loss: 0.4532 - val_acc: 0.7880\n",
            "Epoch 64/100\n",
            "63/63 [==============================] - 129s 2s/step - loss: 0.4640 - acc: 0.7850 - val_loss: 0.4520 - val_acc: 0.7790\n",
            "Epoch 65/100\n",
            "63/63 [==============================] - 133s 2s/step - loss: 0.4575 - acc: 0.7825 - val_loss: 0.4430 - val_acc: 0.8000\n",
            "Epoch 66/100\n",
            "63/63 [==============================] - 130s 2s/step - loss: 0.4479 - acc: 0.7840 - val_loss: 0.5409 - val_acc: 0.7350\n",
            "Epoch 67/100\n",
            "63/63 [==============================] - 130s 2s/step - loss: 0.4567 - acc: 0.7810 - val_loss: 0.4626 - val_acc: 0.7780\n",
            "Epoch 68/100\n",
            "63/63 [==============================] - 133s 2s/step - loss: 0.4520 - acc: 0.7855 - val_loss: 0.4468 - val_acc: 0.7810\n",
            "Epoch 69/100\n",
            "63/63 [==============================] - 131s 2s/step - loss: 0.4578 - acc: 0.7870 - val_loss: 0.4863 - val_acc: 0.7570\n",
            "Epoch 70/100\n",
            "63/63 [==============================] - 132s 2s/step - loss: 0.4493 - acc: 0.7835 - val_loss: 0.4618 - val_acc: 0.7680\n",
            "Epoch 71/100\n",
            "63/63 [==============================] - 130s 2s/step - loss: 0.4338 - acc: 0.7965 - val_loss: 0.4506 - val_acc: 0.7900\n",
            "Epoch 72/100\n",
            "63/63 [==============================] - 129s 2s/step - loss: 0.4478 - acc: 0.7980 - val_loss: 0.4980 - val_acc: 0.7430\n",
            "Epoch 73/100\n",
            "63/63 [==============================] - 132s 2s/step - loss: 0.4633 - acc: 0.7785 - val_loss: 0.4380 - val_acc: 0.8000\n",
            "Epoch 74/100\n",
            "63/63 [==============================] - 129s 2s/step - loss: 0.4306 - acc: 0.7965 - val_loss: 0.4865 - val_acc: 0.7780\n",
            "Epoch 75/100\n",
            "63/63 [==============================] - 131s 2s/step - loss: 0.4485 - acc: 0.7875 - val_loss: 0.5179 - val_acc: 0.7440\n",
            "Epoch 76/100\n",
            "63/63 [==============================] - 127s 2s/step - loss: 0.4603 - acc: 0.7860 - val_loss: 0.4411 - val_acc: 0.7910\n",
            "Epoch 77/100\n",
            "63/63 [==============================] - 129s 2s/step - loss: 0.4480 - acc: 0.7915 - val_loss: 0.4295 - val_acc: 0.8010\n",
            "Epoch 78/100\n",
            "63/63 [==============================] - 127s 2s/step - loss: 0.4335 - acc: 0.8000 - val_loss: 0.4475 - val_acc: 0.7910\n",
            "Epoch 79/100\n",
            "63/63 [==============================] - 127s 2s/step - loss: 0.4359 - acc: 0.7945 - val_loss: 0.4166 - val_acc: 0.7940\n",
            "Epoch 80/100\n",
            "63/63 [==============================] - 133s 2s/step - loss: 0.4581 - acc: 0.7795 - val_loss: 0.4204 - val_acc: 0.8020\n",
            "Epoch 81/100\n",
            "63/63 [==============================] - 129s 2s/step - loss: 0.4427 - acc: 0.8010 - val_loss: 0.4413 - val_acc: 0.7810\n",
            "Epoch 82/100\n",
            "63/63 [==============================] - 133s 2s/step - loss: 0.4241 - acc: 0.8090 - val_loss: 0.4430 - val_acc: 0.7910\n",
            "Epoch 83/100\n",
            "63/63 [==============================] - 129s 2s/step - loss: 0.4266 - acc: 0.7995 - val_loss: 0.4193 - val_acc: 0.8030\n",
            "Epoch 84/100\n",
            "63/63 [==============================] - 130s 2s/step - loss: 0.4270 - acc: 0.8035 - val_loss: 0.5112 - val_acc: 0.7410\n",
            "Epoch 85/100\n",
            "63/63 [==============================] - 132s 2s/step - loss: 0.4349 - acc: 0.7880 - val_loss: 0.4267 - val_acc: 0.8040\n",
            "Epoch 86/100\n",
            "63/63 [==============================] - 129s 2s/step - loss: 0.4350 - acc: 0.7940 - val_loss: 0.4458 - val_acc: 0.7950\n",
            "Epoch 87/100\n",
            "63/63 [==============================] - 129s 2s/step - loss: 0.4463 - acc: 0.7895 - val_loss: 0.4306 - val_acc: 0.8130\n",
            "Epoch 88/100\n",
            "63/63 [==============================] - 127s 2s/step - loss: 0.4138 - acc: 0.8070 - val_loss: 0.4417 - val_acc: 0.7890\n",
            "Epoch 89/100\n",
            "63/63 [==============================] - 131s 2s/step - loss: 0.4267 - acc: 0.8030 - val_loss: 0.4554 - val_acc: 0.7840\n",
            "Epoch 90/100\n",
            "63/63 [==============================] - 127s 2s/step - loss: 0.4391 - acc: 0.7945 - val_loss: 0.4226 - val_acc: 0.8060\n",
            "Epoch 91/100\n",
            "63/63 [==============================] - 127s 2s/step - loss: 0.4167 - acc: 0.8110 - val_loss: 0.5673 - val_acc: 0.7210\n",
            "Epoch 92/100\n",
            "63/63 [==============================] - 130s 2s/step - loss: 0.4155 - acc: 0.8095 - val_loss: 0.4906 - val_acc: 0.7750\n",
            "Epoch 93/100\n",
            "63/63 [==============================] - 128s 2s/step - loss: 0.4259 - acc: 0.8110 - val_loss: 0.4420 - val_acc: 0.7980\n",
            "Epoch 94/100\n",
            "63/63 [==============================] - 132s 2s/step - loss: 0.4142 - acc: 0.8120 - val_loss: 0.4194 - val_acc: 0.8080\n",
            "Epoch 95/100\n",
            "63/63 [==============================] - 130s 2s/step - loss: 0.4270 - acc: 0.7925 - val_loss: 0.4264 - val_acc: 0.8120\n",
            "Epoch 96/100\n",
            "63/63 [==============================] - 130s 2s/step - loss: 0.4302 - acc: 0.8000 - val_loss: 0.4126 - val_acc: 0.8210\n",
            "Epoch 97/100\n",
            "63/63 [==============================] - 132s 2s/step - loss: 0.4086 - acc: 0.8105 - val_loss: 0.4324 - val_acc: 0.8110\n",
            "Epoch 98/100\n",
            "63/63 [==============================] - 129s 2s/step - loss: 0.4108 - acc: 0.8040 - val_loss: 0.5018 - val_acc: 0.7780\n",
            "Epoch 99/100\n",
            "63/63 [==============================] - 131s 2s/step - loss: 0.4089 - acc: 0.8135 - val_loss: 0.4277 - val_acc: 0.8090\n",
            "Epoch 100/100\n",
            "63/63 [==============================] - 128s 2s/step - loss: 0.4185 - acc: 0.8085 - val_loss: 0.4705 - val_acc: 0.7650\n"
          ]
        }
      ]
    },
    {
      "cell_type": "code",
      "metadata": {
        "id": "ff478fda"
      },
      "source": [
        "# Save Model: It is best practice to save the model after training\n",
        "model.save(\"cats_and_dogs_small_2.h5\")"
      ],
      "id": "ff478fda",
      "execution_count": null,
      "outputs": []
    },
    {
      "cell_type": "code",
      "metadata": {
        "id": "b3d5c0ea",
        "outputId": "3a32d625-6bea-458d-d8a6-748a7ff31779"
      },
      "source": [
        "# Plotting the results\n",
        "import matplotlib.pyplot as plt\n",
        "\n",
        "acc = history.history['acc']\n",
        "val_acc = history.history['val_acc']\n",
        "loss = history.history['loss']\n",
        "val_loss = history.history['val_loss']\n",
        "\n",
        "epochs = range(1, len(acc) + 1)\n",
        "\n",
        "plt.plot(epochs, acc, 'bo', label='Training Accuracy')\n",
        "plt.plot(epochs, val_acc, 'b', label='Validation Accuracy')\n",
        "plt.title(\"Training And Validation Accuracy\")\n",
        "plt.legend()\n",
        "\n",
        "plt.figure()\n",
        "\n",
        "plt.plot(epochs, loss, 'bo', label=\"Training Loss\")\n",
        "plt.plot(epochs, val_loss, 'b', label=\"Validation Loss\")\n",
        "plt.title(\"Training and Validation Loss\")\n",
        "plt.legend()\n",
        "\n",
        "plt.show()"
      ],
      "id": "b3d5c0ea",
      "execution_count": null,
      "outputs": [
        {
          "data": {
            "image/png": "[encoded data removed]",
            "text/plain": [
              "<Figure size 432x288 with 1 Axes>"
            ]
          },
          "metadata": {
            "needs_background": "light"
          },
          "output_type": "display_data"
        },
        {
          "data": {
            "image/png": "[encoded data removed]",
            "text/plain": [
              "<Figure size 432x288 with 1 Axes>"
            ]
          },
          "metadata": {
            "needs_background": "light"
          },
          "output_type": "display_data"
        }
      ]
    },
    {
      "cell_type": "markdown",
      "metadata": {
        "id": "La_h3LNzwrLt"
      },
      "source": [
        "**Using a pretrained convnet**"
      ],
      "id": "La_h3LNzwrLt"
    },
    {
      "cell_type": "code",
      "metadata": {
        "id": "f285cc3d"
      },
      "source": [
        "# Load VGG16 from keras\n",
        "from tensorflow.keras.applications import VGG16"
      ],
      "id": "f285cc3d",
      "execution_count": 4,
      "outputs": []
    },
    {
      "cell_type": "code",
      "metadata": {
        "colab": {
          "base_uri": "https://localhost:8080/"
        },
        "id": "5ce6f2a4",
        "outputId": "bd5add7e-270b-4fc2-d6a4-ed223fb1180b"
      },
      "source": [
        "conv_base = VGG16(weights='imagenet',\n",
        "                 include_top=False,\n",
        "                 input_shape=(150,150,3))"
      ],
      "id": "5ce6f2a4",
      "execution_count": 5,
      "outputs": [
        {
          "output_type": "stream",
          "name": "stdout",
          "text": [
            "Downloading data from https://storage.googleapis.com/tensorflow/keras-applications/vgg16/vgg16_weights_tf_dim_ordering_tf_kernels_notop.h5\n",
            "58892288/58889256 [==============================] - 1s 0us/step\n",
            "58900480/58889256 [==============================] - 1s 0us/step\n"
          ]
        }
      ]
    },
    {
      "cell_type": "markdown",
      "metadata": {
        "id": "vdnMwjfcw0AY"
      },
      "source": [
        "**Feature Extraction Without Data Augmentation**"
      ],
      "id": "vdnMwjfcw0AY"
    },
    {
      "cell_type": "markdown",
      "metadata": {
        "id": "cY94XHGS036z"
      },
      "source": [
        "Here we Predict our sample on pretrained convolution base so it give features. using these features we train our dense classifier. This technique do not allow data augmentation"
      ],
      "id": "cY94XHGS036z"
    },
    {
      "cell_type": "code",
      "metadata": {
        "id": "15da3870"
      },
      "source": [
        "# Extracting Features using Prediction of VGG16\n",
        "\n",
        "import os\n",
        "import numpy as np\n",
        "from tensorflow.keras.preprocessing.image import ImageDataGenerator\n",
        "\n",
        "datagen = ImageDataGenerator(rescale=1./255)\n",
        "batch_size = 20\n",
        "\n",
        "def extract_features(directory, sample_count):\n",
        "    features = np.zeros(shape = (sample_count, 4, 4, 512))\n",
        "    labels = np.zeros(shape=(sample_count))\n",
        "    generator = datagen.flow_from_directory(directory,\n",
        "                                           target_size=(150,150),\n",
        "                                           batch_size=batch_size,\n",
        "                                           class_mode='binary')\n",
        "    i = 0\n",
        "    for inputs_batch, labels_batch in generator:\n",
        "        features_batch = conv_base.predict(inputs_batch)\n",
        "        features[i * batch_size : (i + 1) * batch_size] = features_batch\n",
        "        labels[i * batch_size : (i + 1) * batch_size] = labels_batch\n",
        "        i += 1\n",
        "        if i * batch_size >= sample_count:\n",
        "            break\n",
        "    return features, labels\n"
      ],
      "id": "15da3870",
      "execution_count": 6,
      "outputs": []
    },
    {
      "cell_type": "code",
      "metadata": {
        "colab": {
          "base_uri": "https://localhost:8080/"
        },
        "id": "70c4c8c2",
        "outputId": "6ec953ae-9b02-49dd-9d00-a06bac004def"
      },
      "source": [
        "train_features, train_labels = extract_features(train_dir, 2000)\n",
        "validation_features, validation_labels = extract_features(validation_dir, 1000)\n",
        "test_features, test_labels = extract_features(test_dir, 1000)"
      ],
      "id": "70c4c8c2",
      "execution_count": 7,
      "outputs": [
        {
          "metadata": {
            "tags": null
          },
          "name": "stdout",
          "output_type": "stream",
          "text": [
            "Found 2000 images belonging to 2 classes.\n",
            "Found 1000 images belonging to 2 classes.\n",
            "Found 1000 images belonging to 2 classes.\n"
          ]
        }
      ]
    },
    {
      "cell_type": "code",
      "metadata": {
        "id": "f45b216b"
      },
      "source": [
        "# To fed data into dense layer we have to flat the data\n",
        "train_features = np.reshape(train_features, (2000, 4 * 4 * 512))\n",
        "validation_features = np.reshape(validation_features, (1000, 4 * 4 * 512))\n",
        "test_features = np.reshape(test_features, (1000, 4 * 4 * 512))"
      ],
      "id": "f45b216b",
      "execution_count": 8,
      "outputs": []
    },
    {
      "cell_type": "code",
      "metadata": {
        "id": "3ebae769"
      },
      "source": [
        "# Structure of Model\n",
        "from tensorflow.keras import models, layers, optimizers\n",
        "model = models.Sequential()\n",
        "model.add(layers.Dense(256, activation='relu', input_dim=4 * 4 * 512))\n",
        "model.add(layers.Dropout(0.5))\n",
        "model.add(layers.Dense(1, activation='sigmoid'))"
      ],
      "id": "3ebae769",
      "execution_count": 18,
      "outputs": []
    },
    {
      "cell_type": "code",
      "metadata": {
        "id": "02436c80"
      },
      "source": [
        "# Compilation of Model\n",
        "model.compile(optimizer=optimizers.RMSprop(learning_rate=2e-5),\n",
        "             loss='binary_crossentropy',\n",
        "             metrics=['acc'])"
      ],
      "id": "02436c80",
      "execution_count": 19,
      "outputs": []
    },
    {
      "cell_type": "code",
      "metadata": {
        "colab": {
          "base_uri": "https://localhost:8080/"
        },
        "id": "823e6757",
        "outputId": "0c44fac5-b670-4497-b210-136c3035877e"
      },
      "source": [
        "# Training Of Model on features that is prediction of VGG16\n",
        "history = model.fit(train_features, train_labels,\n",
        "                   epochs=30, batch_size=20,\n",
        "                   validation_data=(validation_features, validation_labels))"
      ],
      "id": "823e6757",
      "execution_count": 20,
      "outputs": [
        {
          "output_type": "stream",
          "name": "stdout",
          "text": [
            "Epoch 1/30\n",
            "100/100 [==============================] - 1s 8ms/step - loss: 0.6012 - acc: 0.6660 - val_loss: 0.4528 - val_acc: 0.8380\n",
            "Epoch 2/30\n",
            "100/100 [==============================] - 1s 6ms/step - loss: 0.4373 - acc: 0.7985 - val_loss: 0.3693 - val_acc: 0.8710\n",
            "Epoch 3/30\n",
            "100/100 [==============================] - 1s 7ms/step - loss: 0.3635 - acc: 0.8415 - val_loss: 0.3306 - val_acc: 0.8870\n",
            "Epoch 4/30\n",
            "100/100 [==============================] - 1s 6ms/step - loss: 0.3220 - acc: 0.8770 - val_loss: 0.3043 - val_acc: 0.8840\n",
            "Epoch 5/30\n",
            "100/100 [==============================] - 1s 6ms/step - loss: 0.2859 - acc: 0.8900 - val_loss: 0.2850 - val_acc: 0.8920\n",
            "Epoch 6/30\n",
            "100/100 [==============================] - 1s 6ms/step - loss: 0.2643 - acc: 0.8950 - val_loss: 0.2737 - val_acc: 0.8960\n",
            "Epoch 7/30\n",
            "100/100 [==============================] - 1s 6ms/step - loss: 0.2514 - acc: 0.9030 - val_loss: 0.2656 - val_acc: 0.9000\n",
            "Epoch 8/30\n",
            "100/100 [==============================] - 1s 6ms/step - loss: 0.2332 - acc: 0.9115 - val_loss: 0.2594 - val_acc: 0.8990\n",
            "Epoch 9/30\n",
            "100/100 [==============================] - 1s 6ms/step - loss: 0.2213 - acc: 0.9185 - val_loss: 0.2543 - val_acc: 0.9040\n",
            "Epoch 10/30\n",
            "100/100 [==============================] - 1s 6ms/step - loss: 0.2031 - acc: 0.9265 - val_loss: 0.2605 - val_acc: 0.8920\n",
            "Epoch 11/30\n",
            "100/100 [==============================] - 1s 6ms/step - loss: 0.1947 - acc: 0.9310 - val_loss: 0.2501 - val_acc: 0.9000\n",
            "Epoch 12/30\n",
            "100/100 [==============================] - 1s 6ms/step - loss: 0.1884 - acc: 0.9285 - val_loss: 0.2438 - val_acc: 0.9050\n",
            "Epoch 13/30\n",
            "100/100 [==============================] - 1s 6ms/step - loss: 0.1790 - acc: 0.9320 - val_loss: 0.2503 - val_acc: 0.8960\n",
            "Epoch 14/30\n",
            "100/100 [==============================] - 1s 6ms/step - loss: 0.1758 - acc: 0.9380 - val_loss: 0.2414 - val_acc: 0.9080\n",
            "Epoch 15/30\n",
            "100/100 [==============================] - 1s 6ms/step - loss: 0.1642 - acc: 0.9450 - val_loss: 0.2407 - val_acc: 0.9050\n",
            "Epoch 16/30\n",
            "100/100 [==============================] - 1s 6ms/step - loss: 0.1599 - acc: 0.9440 - val_loss: 0.2435 - val_acc: 0.9000\n",
            "Epoch 17/30\n",
            "100/100 [==============================] - 1s 6ms/step - loss: 0.1452 - acc: 0.9495 - val_loss: 0.2338 - val_acc: 0.9080\n",
            "Epoch 18/30\n",
            "100/100 [==============================] - 1s 6ms/step - loss: 0.1462 - acc: 0.9460 - val_loss: 0.2334 - val_acc: 0.9080\n",
            "Epoch 19/30\n",
            "100/100 [==============================] - 1s 6ms/step - loss: 0.1365 - acc: 0.9540 - val_loss: 0.2350 - val_acc: 0.9070\n",
            "Epoch 20/30\n",
            "100/100 [==============================] - 1s 6ms/step - loss: 0.1306 - acc: 0.9555 - val_loss: 0.2358 - val_acc: 0.9070\n",
            "Epoch 21/30\n",
            "100/100 [==============================] - 1s 6ms/step - loss: 0.1267 - acc: 0.9560 - val_loss: 0.2396 - val_acc: 0.9020\n",
            "Epoch 22/30\n",
            "100/100 [==============================] - 1s 6ms/step - loss: 0.1199 - acc: 0.9590 - val_loss: 0.2345 - val_acc: 0.9080\n",
            "Epoch 23/30\n",
            "100/100 [==============================] - 1s 6ms/step - loss: 0.1169 - acc: 0.9620 - val_loss: 0.2398 - val_acc: 0.9070\n",
            "Epoch 24/30\n",
            "100/100 [==============================] - 1s 6ms/step - loss: 0.1101 - acc: 0.9650 - val_loss: 0.2344 - val_acc: 0.9070\n",
            "Epoch 25/30\n",
            "100/100 [==============================] - 1s 6ms/step - loss: 0.1088 - acc: 0.9660 - val_loss: 0.2511 - val_acc: 0.9020\n",
            "Epoch 26/30\n",
            "100/100 [==============================] - 1s 6ms/step - loss: 0.1035 - acc: 0.9710 - val_loss: 0.2347 - val_acc: 0.9080\n",
            "Epoch 27/30\n",
            "100/100 [==============================] - 1s 6ms/step - loss: 0.1002 - acc: 0.9670 - val_loss: 0.2392 - val_acc: 0.9060\n",
            "Epoch 28/30\n",
            "100/100 [==============================] - 1s 6ms/step - loss: 0.0960 - acc: 0.9680 - val_loss: 0.2668 - val_acc: 0.8860\n",
            "Epoch 29/30\n",
            "100/100 [==============================] - 1s 6ms/step - loss: 0.0903 - acc: 0.9680 - val_loss: 0.2454 - val_acc: 0.9070\n",
            "Epoch 30/30\n",
            "100/100 [==============================] - 1s 6ms/step - loss: 0.0861 - acc: 0.9705 - val_loss: 0.2525 - val_acc: 0.8990\n"
          ]
        }
      ]
    },
    {
      "cell_type": "code",
      "metadata": {
        "colab": {
          "base_uri": "https://localhost:8080/",
          "height": 545
        },
        "id": "1e630309",
        "outputId": "98b2d50a-2d19-4111-ced3-94b502e8c545"
      },
      "source": [
        "# Plotting the results\n",
        "import matplotlib.pyplot as plt\n",
        "\n",
        "acc = history.history['acc']\n",
        "val_acc = history.history['val_acc']\n",
        "loss = history.history['loss']\n",
        "val_loss = history.history['val_loss']\n",
        "\n",
        "epochs = range(1,len(acc) + 1)\n",
        "\n",
        "plt.plot(epochs, acc, 'bo', label='Training Accuracy')\n",
        "plt.plot(epochs, val_acc, 'b', label='Validation Accuracy')\n",
        "plt.title('Training and Validation Accuracy')\n",
        "plt.legend()\n",
        "\n",
        "plt.figure()\n",
        "\n",
        "plt.plot(epochs, loss, 'bo', label='Training Loss')\n",
        "plt.plot(epochs, val_loss, 'b', label='Validation_loss')\n",
        "plt.title(\"Training and Validation Loss\")\n",
        "\n",
        "plt.legend()\n",
        "plt.show()"
      ],
      "id": "1e630309",
      "execution_count": 21,
      "outputs": [
        {
          "output_type": "display_data",
          "data": {
            "image/png": "[encoded data removed]",
            "text/plain": [
              "<Figure size 432x288 with 1 Axes>"
            ]
          },
          "metadata": {
            "needs_background": "light"
          }
        },
        {
          "output_type": "display_data",
          "data": {
            "image/png": "[encoded data removed]",
            "text/plain": [
              "<Figure size 432x288 with 1 Axes>"
            ]
          },
          "metadata": {
            "needs_background": "light"
          }
        }
      ]
    },
    {
      "cell_type": "markdown",
      "metadata": {
        "id": "0kSg1ZfVw8Fg"
      },
      "source": [
        "**Feature Extraction With Data Augmentation**"
      ],
      "id": "0kSg1ZfVw8Fg"
    },
    {
      "cell_type": "markdown",
      "metadata": {
        "id": "MgUK-Lpw0WdT"
      },
      "source": [
        "Add Pretrained Conv base in model as a layer and freeze it, so its previous training is safe, and train the model"
      ],
      "id": "MgUK-Lpw0WdT"
    },
    {
      "cell_type": "code",
      "metadata": {
        "colab": {
          "base_uri": "https://localhost:8080/"
        },
        "id": "ccafb5b4",
        "outputId": "9491e865-c428-40ea-a138-54a937484ce9"
      },
      "source": [
        "# Build Model\n",
        "from tensorflow.keras import models, layers, optimizers\n",
        "model = models.Sequential()\n",
        "model.add(conv_base)\n",
        "model.add(layers.Flatten())\n",
        "model.add(layers.Dense(256, activation='relu'))\n",
        "model.add(layers.Dense(1, activation='sigmoid'))\n",
        "print(\"This is the number of trainable weights before freezing the conv base\", len(model.trainable_weights))\n",
        "conv_base.trainable = False\n",
        "print(\"This is the number of trainable weights after freezing the conv base\", len(model.trainable_weights))"
      ],
      "id": "ccafb5b4",
      "execution_count": 22,
      "outputs": [
        {
          "output_type": "stream",
          "name": "stdout",
          "text": [
            "This is the number of trainable weights before freezing the conv base 30\n",
            "This is the number of trainable weights after freezing the conv base 4\n"
          ]
        }
      ]
    },
    {
      "cell_type": "code",
      "metadata": {
        "colab": {
          "base_uri": "https://localhost:8080/"
        },
        "id": "aIq98rEBVf5n",
        "outputId": "6295aa8e-a7e1-428f-9369-92bff80b4b00"
      },
      "source": [
        "# Create Generator with data Augmentation\n",
        "from tensorflow.keras.preprocessing.image import ImageDataGenerator\n",
        "train_datagen = ImageDataGenerator(rescale=1./255,\n",
        "                                   rotation_range=40,\n",
        "                                   width_shift_range=0.2,\n",
        "                                   height_shift_range=0.2,\n",
        "                                   shear_range=0.2,\n",
        "                                   zoom_range=0.2,\n",
        "                                   horizontal_flip=True,\n",
        "                                   fill_mode='nearest')\n",
        "test_datagen = ImageDataGenerator(rescale=1./255)\n",
        "\n",
        "train_generator = train_datagen.flow_from_directory(train_dir,\n",
        "                                                    target_size=(150, 150),\n",
        "                                                    batch_size=20,\n",
        "                                                    class_mode='binary')\n",
        "validation_generator = test_datagen.flow_from_directory(validation_dir,\n",
        "                                                       target_size=(150, 150),\n",
        "                                                       batch_size=20,\n",
        "                                                       class_mode='binary')"
      ],
      "id": "aIq98rEBVf5n",
      "execution_count": 23,
      "outputs": [
        {
          "output_type": "stream",
          "name": "stdout",
          "text": [
            "Found 2000 images belonging to 2 classes.\n",
            "Found 1000 images belonging to 2 classes.\n"
          ]
        }
      ]
    },
    {
      "cell_type": "code",
      "metadata": {
        "id": "_aRzS54RZug2"
      },
      "source": [
        "# Compilation Steps\n",
        "model.compile(optimizer=optimizers.RMSprop(learning_rate=2e-5),\n",
        "              loss='binary_crossentropy',\n",
        "              metrics=['acc'])"
      ],
      "id": "_aRzS54RZug2",
      "execution_count": 24,
      "outputs": []
    },
    {
      "cell_type": "code",
      "metadata": {
        "colab": {
          "base_uri": "https://localhost:8080/"
        },
        "id": "3qBwbM4naDhT",
        "outputId": "2d5bbee9-6c03-4555-9ce2-7ffef9e242d1"
      },
      "source": [
        "# Training using Generator\n",
        "history = model.fit_generator(train_generator,\n",
        "                              steps_per_epoch=100,\n",
        "                              epochs=30,\n",
        "                              validation_data=validation_generator,\n",
        "                              validation_steps=50)"
      ],
      "id": "3qBwbM4naDhT",
      "execution_count": 25,
      "outputs": [
        {
          "output_type": "stream",
          "name": "stderr",
          "text": [
            "/usr/local/lib/python3.7/dist-packages/keras/engine/training.py:1972: UserWarning: `Model.fit_generator` is deprecated and will be removed in a future version. Please use `Model.fit`, which supports generators.\n",
            "  warnings.warn('`Model.fit_generator` is deprecated and '\n"
          ]
        },
        {
          "output_type": "stream",
          "name": "stdout",
          "text": [
            "Epoch 1/30\n",
            "100/100 [==============================] - 30s 295ms/step - loss: 0.5806 - acc: 0.7045 - val_loss: 0.4519 - val_acc: 0.8120\n",
            "Epoch 2/30\n",
            "100/100 [==============================] - 29s 290ms/step - loss: 0.4866 - acc: 0.7840 - val_loss: 0.3923 - val_acc: 0.8490\n",
            "Epoch 3/30\n",
            "100/100 [==============================] - 29s 289ms/step - loss: 0.4453 - acc: 0.7990 - val_loss: 0.3359 - val_acc: 0.8680\n",
            "Epoch 4/30\n",
            "100/100 [==============================] - 29s 290ms/step - loss: 0.4082 - acc: 0.8215 - val_loss: 0.3091 - val_acc: 0.8790\n",
            "Epoch 5/30\n",
            "100/100 [==============================] - 29s 291ms/step - loss: 0.3823 - acc: 0.8330 - val_loss: 0.2977 - val_acc: 0.8850\n",
            "Epoch 6/30\n",
            "100/100 [==============================] - 29s 290ms/step - loss: 0.3713 - acc: 0.8355 - val_loss: 0.2846 - val_acc: 0.8940\n",
            "Epoch 7/30\n",
            "100/100 [==============================] - 29s 291ms/step - loss: 0.3574 - acc: 0.8455 - val_loss: 0.2884 - val_acc: 0.8750\n",
            "Epoch 8/30\n",
            "100/100 [==============================] - 29s 293ms/step - loss: 0.3441 - acc: 0.8475 - val_loss: 0.2703 - val_acc: 0.8940\n",
            "Epoch 9/30\n",
            "100/100 [==============================] - 29s 292ms/step - loss: 0.3500 - acc: 0.8510 - val_loss: 0.2697 - val_acc: 0.8910\n",
            "Epoch 10/30\n",
            "100/100 [==============================] - 29s 292ms/step - loss: 0.3290 - acc: 0.8570 - val_loss: 0.2641 - val_acc: 0.8880\n",
            "Epoch 11/30\n",
            "100/100 [==============================] - 29s 292ms/step - loss: 0.3307 - acc: 0.8510 - val_loss: 0.2622 - val_acc: 0.8910\n",
            "Epoch 12/30\n",
            "100/100 [==============================] - 29s 294ms/step - loss: 0.3291 - acc: 0.8635 - val_loss: 0.2581 - val_acc: 0.8940\n",
            "Epoch 13/30\n",
            "100/100 [==============================] - 30s 299ms/step - loss: 0.3184 - acc: 0.8565 - val_loss: 0.2522 - val_acc: 0.8960\n",
            "Epoch 14/30\n",
            "100/100 [==============================] - 30s 297ms/step - loss: 0.3268 - acc: 0.8570 - val_loss: 0.2466 - val_acc: 0.9000\n",
            "Epoch 15/30\n",
            "100/100 [==============================] - 29s 292ms/step - loss: 0.3020 - acc: 0.8695 - val_loss: 0.2452 - val_acc: 0.8990\n",
            "Epoch 16/30\n",
            "100/100 [==============================] - 29s 290ms/step - loss: 0.3157 - acc: 0.8560 - val_loss: 0.2465 - val_acc: 0.9050\n",
            "Epoch 17/30\n",
            "100/100 [==============================] - 29s 291ms/step - loss: 0.3023 - acc: 0.8610 - val_loss: 0.2471 - val_acc: 0.8910\n",
            "Epoch 18/30\n",
            "100/100 [==============================] - 30s 295ms/step - loss: 0.3088 - acc: 0.8645 - val_loss: 0.2480 - val_acc: 0.8960\n",
            "Epoch 19/30\n",
            "100/100 [==============================] - 29s 294ms/step - loss: 0.3093 - acc: 0.8685 - val_loss: 0.2441 - val_acc: 0.9000\n",
            "Epoch 20/30\n",
            "100/100 [==============================] - 29s 292ms/step - loss: 0.3017 - acc: 0.8670 - val_loss: 0.2473 - val_acc: 0.8950\n",
            "Epoch 21/30\n",
            "100/100 [==============================] - 29s 293ms/step - loss: 0.3025 - acc: 0.8630 - val_loss: 0.2393 - val_acc: 0.9030\n",
            "Epoch 22/30\n",
            "100/100 [==============================] - 29s 293ms/step - loss: 0.2922 - acc: 0.8765 - val_loss: 0.2388 - val_acc: 0.9000\n",
            "Epoch 23/30\n",
            "100/100 [==============================] - 29s 293ms/step - loss: 0.2941 - acc: 0.8745 - val_loss: 0.2389 - val_acc: 0.9000\n",
            "Epoch 24/30\n",
            "100/100 [==============================] - 30s 296ms/step - loss: 0.2897 - acc: 0.8695 - val_loss: 0.2383 - val_acc: 0.9000\n",
            "Epoch 25/30\n",
            "100/100 [==============================] - 29s 294ms/step - loss: 0.2844 - acc: 0.8695 - val_loss: 0.2709 - val_acc: 0.8880\n",
            "Epoch 26/30\n",
            "100/100 [==============================] - 29s 294ms/step - loss: 0.2899 - acc: 0.8775 - val_loss: 0.2406 - val_acc: 0.8980\n",
            "Epoch 27/30\n",
            "100/100 [==============================] - 29s 292ms/step - loss: 0.2886 - acc: 0.8760 - val_loss: 0.2400 - val_acc: 0.9000\n",
            "Epoch 28/30\n",
            "100/100 [==============================] - 29s 292ms/step - loss: 0.2893 - acc: 0.8725 - val_loss: 0.2365 - val_acc: 0.9030\n",
            "Epoch 29/30\n",
            "100/100 [==============================] - 30s 297ms/step - loss: 0.2840 - acc: 0.8785 - val_loss: 0.2408 - val_acc: 0.9040\n",
            "Epoch 30/30\n",
            "100/100 [==============================] - 29s 294ms/step - loss: 0.2788 - acc: 0.8935 - val_loss: 0.2408 - val_acc: 0.9040\n"
          ]
        }
      ]
    },
    {
      "cell_type": "code",
      "metadata": {
        "id": "5V2QWEUWav10",
        "colab": {
          "base_uri": "https://localhost:8080/",
          "height": 545
        },
        "outputId": "7daa4f01-b422-41a6-aa87-80e1699218a7"
      },
      "source": [
        "# Plotting results\n",
        "acc = history.history['acc']\n",
        "val_acc = history.history['val_acc']\n",
        "loss = history.history['loss']\n",
        "val_loss = history.history['val_loss']\n",
        "\n",
        "epochs = range(1,len(acc) + 1)\n",
        "\n",
        "plt.plot(epochs, acc, 'bo', label='Training Accuracy')\n",
        "plt.plot(epochs, val_acc, 'b', label='Validation Accuracy')\n",
        "plt.title('Training and Validation Accuracy')\n",
        "plt.legend()\n",
        "\n",
        "plt.figure()\n",
        "\n",
        "plt.plot(epochs, loss, 'bo', label='Training Loss')\n",
        "plt.plot(epochs, val_loss, 'b', label='Validation_loss')\n",
        "plt.title(\"Training and Validation Loss\")\n",
        "\n",
        "plt.legend()\n",
        "plt.show()"
      ],
      "id": "5V2QWEUWav10",
      "execution_count": 26,
      "outputs": [
        {
          "output_type": "display_data",
          "data": {
            "image/png": "[encoded data removed]",
            "text/plain": [
              "<Figure size 432x288 with 1 Axes>"
            ]
          },
          "metadata": {
            "needs_background": "light"
          }
        },
        {
          "output_type": "display_data",
          "data": {
            "image/png": "[encoded data removed]",
            "text/plain": [
              "<Figure size 432x288 with 1 Axes>"
            ]
          },
          "metadata": {
            "needs_background": "light"
          }
        }
      ]
    },
    {
      "cell_type": "markdown",
      "metadata": {
        "id": "V-K5pj68xGMI"
      },
      "source": [
        "**Fine Tuning**"
      ],
      "id": "V-K5pj68xGMI"
    },
    {
      "cell_type": "markdown",
      "metadata": {
        "id": "Y4XVv-cnxKuG"
      },
      "source": [
        "Means freeze convolution base except some top layers and joint training with dense classifier (trained dense classifier)"
      ],
      "id": "Y4XVv-cnxKuG"
    },
    {
      "cell_type": "code",
      "metadata": {
        "id": "X-m43P-sbOes"
      },
      "source": [
        "# Freeze Conv base upto block 4 and unfreeze last block 5\n",
        "conv_base.trainable = True\n",
        "condition = False\n",
        "for layer in conv_base.layers:\n",
        "  if layer.name == 'block5_conv1':\n",
        "    condition = True\n",
        "  if condition:\n",
        "    layer.trainable = True\n",
        "  else:\n",
        "    layer.trainable = False"
      ],
      "id": "X-m43P-sbOes",
      "execution_count": 27,
      "outputs": []
    },
    {
      "cell_type": "code",
      "metadata": {
        "id": "rcO9buOOeg88"
      },
      "source": [
        "# Compilation Steps\n",
        "model.compile(loss='binary_crossentropy',\n",
        "              optimizer=optimizers.RMSprop(learning_rate=1e-5),\n",
        "              metrics=['acc'])"
      ],
      "id": "rcO9buOOeg88",
      "execution_count": 28,
      "outputs": []
    },
    {
      "cell_type": "code",
      "metadata": {
        "id": "cB_awm29e7-V",
        "colab": {
          "base_uri": "https://localhost:8080/"
        },
        "outputId": "777180fe-d2ad-4ce6-b21b-35b2db742906"
      },
      "source": [
        "# Train the model using previous generator\n",
        "history = model.fit_generator(train_generator,\n",
        "                              steps_per_epoch=100,\n",
        "                              epochs=100,\n",
        "                              validation_data = validation_generator,\n",
        "                              validation_steps=50)"
      ],
      "id": "cB_awm29e7-V",
      "execution_count": 29,
      "outputs": [
        {
          "metadata": {
            "tags": null
          },
          "name": "stderr",
          "output_type": "stream",
          "text": [
            "/usr/local/lib/python3.7/dist-packages/keras/engine/training.py:1972: UserWarning: `Model.fit_generator` is deprecated and will be removed in a future version. Please use `Model.fit`, which supports generators.\n",
            "  warnings.warn('`Model.fit_generator` is deprecated and '\n"
          ]
        },
        {
          "output_type": "stream",
          "name": "stdout",
          "text": [
            "Epoch 1/100\n",
            "100/100 [==============================] - 33s 308ms/step - loss: 0.3041 - acc: 0.8685 - val_loss: 0.2216 - val_acc: 0.9110\n",
            "Epoch 2/100\n",
            "100/100 [==============================] - 31s 305ms/step - loss: 0.2741 - acc: 0.8825 - val_loss: 0.2029 - val_acc: 0.9280\n",
            "Epoch 3/100\n",
            "100/100 [==============================] - 31s 305ms/step - loss: 0.2313 - acc: 0.9055 - val_loss: 0.2579 - val_acc: 0.8950\n",
            "Epoch 4/100\n",
            "100/100 [==============================] - 30s 302ms/step - loss: 0.2165 - acc: 0.9100 - val_loss: 0.2130 - val_acc: 0.9150\n",
            "Epoch 5/100\n",
            "100/100 [==============================] - 30s 303ms/step - loss: 0.2152 - acc: 0.9080 - val_loss: 0.2001 - val_acc: 0.9270\n",
            "Epoch 6/100\n",
            "100/100 [==============================] - 31s 305ms/step - loss: 0.1946 - acc: 0.9265 - val_loss: 0.1955 - val_acc: 0.9270\n",
            "Epoch 7/100\n",
            "100/100 [==============================] - 30s 303ms/step - loss: 0.1830 - acc: 0.9255 - val_loss: 0.2320 - val_acc: 0.9150\n",
            "Epoch 8/100\n",
            "100/100 [==============================] - 30s 302ms/step - loss: 0.1737 - acc: 0.9245 - val_loss: 0.1915 - val_acc: 0.9340\n",
            "Epoch 9/100\n",
            "100/100 [==============================] - 30s 304ms/step - loss: 0.1601 - acc: 0.9360 - val_loss: 0.1829 - val_acc: 0.9360\n",
            "Epoch 10/100\n",
            "100/100 [==============================] - 30s 299ms/step - loss: 0.1561 - acc: 0.9335 - val_loss: 0.2091 - val_acc: 0.9280\n",
            "Epoch 11/100\n",
            "100/100 [==============================] - 30s 303ms/step - loss: 0.1409 - acc: 0.9365 - val_loss: 0.1815 - val_acc: 0.9360\n",
            "Epoch 12/100\n",
            "100/100 [==============================] - 30s 303ms/step - loss: 0.1395 - acc: 0.9395 - val_loss: 0.1866 - val_acc: 0.9330\n",
            "Epoch 13/100\n",
            "100/100 [==============================] - 31s 307ms/step - loss: 0.1256 - acc: 0.9500 - val_loss: 0.2112 - val_acc: 0.9270\n",
            "Epoch 14/100\n",
            "100/100 [==============================] - 31s 305ms/step - loss: 0.1154 - acc: 0.9555 - val_loss: 0.1892 - val_acc: 0.9370\n",
            "Epoch 15/100\n",
            "100/100 [==============================] - 30s 302ms/step - loss: 0.1325 - acc: 0.9470 - val_loss: 0.1915 - val_acc: 0.9350\n",
            "Epoch 16/100\n",
            "100/100 [==============================] - 30s 305ms/step - loss: 0.1094 - acc: 0.9540 - val_loss: 0.1660 - val_acc: 0.9410\n",
            "Epoch 17/100\n",
            "100/100 [==============================] - 31s 305ms/step - loss: 0.1085 - acc: 0.9570 - val_loss: 0.1752 - val_acc: 0.9370\n",
            "Epoch 18/100\n",
            "100/100 [==============================] - 30s 302ms/step - loss: 0.1153 - acc: 0.9550 - val_loss: 0.1750 - val_acc: 0.9360\n",
            "Epoch 19/100\n",
            "100/100 [==============================] - 30s 305ms/step - loss: 0.1018 - acc: 0.9585 - val_loss: 0.1937 - val_acc: 0.9330\n",
            "Epoch 20/100\n",
            "100/100 [==============================] - 30s 301ms/step - loss: 0.0876 - acc: 0.9675 - val_loss: 0.1891 - val_acc: 0.9320\n",
            "Epoch 21/100\n",
            "100/100 [==============================] - 31s 308ms/step - loss: 0.0983 - acc: 0.9670 - val_loss: 0.1788 - val_acc: 0.9350\n",
            "Epoch 22/100\n",
            "100/100 [==============================] - 31s 308ms/step - loss: 0.1033 - acc: 0.9595 - val_loss: 0.1788 - val_acc: 0.9320\n",
            "Epoch 23/100\n",
            "100/100 [==============================] - 31s 306ms/step - loss: 0.0892 - acc: 0.9660 - val_loss: 0.1833 - val_acc: 0.9310\n",
            "Epoch 24/100\n",
            "100/100 [==============================] - 30s 303ms/step - loss: 0.0803 - acc: 0.9730 - val_loss: 0.2925 - val_acc: 0.9120\n",
            "Epoch 25/100\n",
            "100/100 [==============================] - 30s 304ms/step - loss: 0.0942 - acc: 0.9635 - val_loss: 0.1822 - val_acc: 0.9400\n",
            "Epoch 26/100\n",
            "100/100 [==============================] - 30s 304ms/step - loss: 0.0957 - acc: 0.9630 - val_loss: 0.1775 - val_acc: 0.9380\n",
            "Epoch 27/100\n",
            "100/100 [==============================] - 31s 306ms/step - loss: 0.0706 - acc: 0.9740 - val_loss: 0.2501 - val_acc: 0.9290\n",
            "Epoch 28/100\n",
            "100/100 [==============================] - 31s 305ms/step - loss: 0.0668 - acc: 0.9740 - val_loss: 0.2238 - val_acc: 0.9250\n",
            "Epoch 29/100\n",
            "100/100 [==============================] - 31s 307ms/step - loss: 0.0559 - acc: 0.9780 - val_loss: 0.2236 - val_acc: 0.9360\n",
            "Epoch 30/100\n",
            "100/100 [==============================] - 31s 307ms/step - loss: 0.0779 - acc: 0.9680 - val_loss: 0.2058 - val_acc: 0.9370\n",
            "Epoch 31/100\n",
            "100/100 [==============================] - 31s 306ms/step - loss: 0.0572 - acc: 0.9770 - val_loss: 0.2610 - val_acc: 0.9230\n",
            "Epoch 32/100\n",
            "100/100 [==============================] - 31s 306ms/step - loss: 0.0723 - acc: 0.9715 - val_loss: 0.2084 - val_acc: 0.9370\n",
            "Epoch 33/100\n",
            "100/100 [==============================] - 31s 307ms/step - loss: 0.0649 - acc: 0.9780 - val_loss: 0.3146 - val_acc: 0.9170\n",
            "Epoch 34/100\n",
            "100/100 [==============================] - 31s 308ms/step - loss: 0.0702 - acc: 0.9750 - val_loss: 0.2714 - val_acc: 0.9170\n",
            "Epoch 35/100\n",
            "100/100 [==============================] - 31s 309ms/step - loss: 0.0606 - acc: 0.9805 - val_loss: 0.3457 - val_acc: 0.9130\n",
            "Epoch 36/100\n",
            "100/100 [==============================] - 31s 308ms/step - loss: 0.0495 - acc: 0.9825 - val_loss: 0.2683 - val_acc: 0.9270\n",
            "Epoch 37/100\n",
            "100/100 [==============================] - 31s 307ms/step - loss: 0.0578 - acc: 0.9795 - val_loss: 0.2262 - val_acc: 0.9340\n",
            "Epoch 38/100\n",
            "100/100 [==============================] - 31s 311ms/step - loss: 0.0568 - acc: 0.9810 - val_loss: 0.2576 - val_acc: 0.9260\n",
            "Epoch 39/100\n",
            "100/100 [==============================] - 31s 312ms/step - loss: 0.0491 - acc: 0.9795 - val_loss: 0.3102 - val_acc: 0.9200\n",
            "Epoch 40/100\n",
            "100/100 [==============================] - 31s 305ms/step - loss: 0.0534 - acc: 0.9795 - val_loss: 0.2012 - val_acc: 0.9390\n",
            "Epoch 41/100\n",
            "100/100 [==============================] - 31s 306ms/step - loss: 0.0533 - acc: 0.9835 - val_loss: 0.2206 - val_acc: 0.9370\n",
            "Epoch 42/100\n",
            "100/100 [==============================] - 31s 306ms/step - loss: 0.0433 - acc: 0.9825 - val_loss: 0.2169 - val_acc: 0.9390\n",
            "Epoch 43/100\n",
            "100/100 [==============================] - 31s 307ms/step - loss: 0.0488 - acc: 0.9835 - val_loss: 0.2027 - val_acc: 0.9400\n",
            "Epoch 44/100\n",
            "100/100 [==============================] - 31s 306ms/step - loss: 0.0389 - acc: 0.9875 - val_loss: 0.1999 - val_acc: 0.9410\n",
            "Epoch 45/100\n",
            "100/100 [==============================] - 31s 306ms/step - loss: 0.0388 - acc: 0.9870 - val_loss: 0.2123 - val_acc: 0.9360\n",
            "Epoch 46/100\n",
            "100/100 [==============================] - 31s 307ms/step - loss: 0.0520 - acc: 0.9775 - val_loss: 0.2181 - val_acc: 0.9370\n",
            "Epoch 47/100\n",
            "100/100 [==============================] - 31s 306ms/step - loss: 0.0377 - acc: 0.9855 - val_loss: 0.2125 - val_acc: 0.9300\n",
            "Epoch 48/100\n",
            "100/100 [==============================] - 31s 308ms/step - loss: 0.0368 - acc: 0.9855 - val_loss: 0.2401 - val_acc: 0.9380\n",
            "Epoch 49/100\n",
            "100/100 [==============================] - 31s 308ms/step - loss: 0.0358 - acc: 0.9855 - val_loss: 0.2111 - val_acc: 0.9430\n",
            "Epoch 50/100\n",
            "100/100 [==============================] - 31s 308ms/step - loss: 0.0331 - acc: 0.9865 - val_loss: 0.2391 - val_acc: 0.9320\n",
            "Epoch 51/100\n",
            "100/100 [==============================] - 31s 306ms/step - loss: 0.0447 - acc: 0.9855 - val_loss: 0.2913 - val_acc: 0.9160\n",
            "Epoch 52/100\n",
            "100/100 [==============================] - 31s 307ms/step - loss: 0.0387 - acc: 0.9870 - val_loss: 0.2940 - val_acc: 0.9200\n",
            "Epoch 53/100\n",
            "100/100 [==============================] - 31s 312ms/step - loss: 0.0370 - acc: 0.9855 - val_loss: 0.2110 - val_acc: 0.9370\n",
            "Epoch 54/100\n",
            "100/100 [==============================] - 31s 312ms/step - loss: 0.0301 - acc: 0.9870 - val_loss: 0.2833 - val_acc: 0.9290\n",
            "Epoch 55/100\n",
            "100/100 [==============================] - 31s 309ms/step - loss: 0.0376 - acc: 0.9850 - val_loss: 0.2389 - val_acc: 0.9390\n",
            "Epoch 56/100\n",
            "100/100 [==============================] - 31s 310ms/step - loss: 0.0439 - acc: 0.9875 - val_loss: 0.2192 - val_acc: 0.9480\n",
            "Epoch 57/100\n",
            "100/100 [==============================] - 31s 311ms/step - loss: 0.0367 - acc: 0.9845 - val_loss: 0.2262 - val_acc: 0.9370\n",
            "Epoch 58/100\n",
            "100/100 [==============================] - 31s 309ms/step - loss: 0.0384 - acc: 0.9870 - val_loss: 0.2512 - val_acc: 0.9310\n",
            "Epoch 59/100\n",
            "100/100 [==============================] - 31s 307ms/step - loss: 0.0411 - acc: 0.9845 - val_loss: 0.1903 - val_acc: 0.9430\n",
            "Epoch 60/100\n",
            "100/100 [==============================] - 31s 309ms/step - loss: 0.0314 - acc: 0.9895 - val_loss: 0.3146 - val_acc: 0.9150\n",
            "Epoch 61/100\n",
            "100/100 [==============================] - 31s 312ms/step - loss: 0.0329 - acc: 0.9895 - val_loss: 0.2337 - val_acc: 0.9420\n",
            "Epoch 62/100\n",
            "100/100 [==============================] - 31s 310ms/step - loss: 0.0354 - acc: 0.9900 - val_loss: 0.2208 - val_acc: 0.9390\n",
            "Epoch 63/100\n",
            "100/100 [==============================] - 31s 311ms/step - loss: 0.0291 - acc: 0.9905 - val_loss: 0.2919 - val_acc: 0.9290\n",
            "Epoch 64/100\n",
            "100/100 [==============================] - 31s 309ms/step - loss: 0.0323 - acc: 0.9890 - val_loss: 0.2047 - val_acc: 0.9460\n",
            "Epoch 65/100\n",
            "100/100 [==============================] - 31s 308ms/step - loss: 0.0355 - acc: 0.9865 - val_loss: 0.2340 - val_acc: 0.9440\n",
            "Epoch 66/100\n",
            "100/100 [==============================] - 31s 309ms/step - loss: 0.0355 - acc: 0.9885 - val_loss: 0.2436 - val_acc: 0.9360\n",
            "Epoch 67/100\n",
            "100/100 [==============================] - 31s 309ms/step - loss: 0.0264 - acc: 0.9900 - val_loss: 0.4432 - val_acc: 0.9060\n",
            "Epoch 68/100\n",
            "100/100 [==============================] - 31s 308ms/step - loss: 0.0269 - acc: 0.9890 - val_loss: 0.2808 - val_acc: 0.9390\n",
            "Epoch 69/100\n",
            "100/100 [==============================] - 31s 309ms/step - loss: 0.0317 - acc: 0.9900 - val_loss: 0.2186 - val_acc: 0.9410\n",
            "Epoch 70/100\n",
            "100/100 [==============================] - 31s 306ms/step - loss: 0.0248 - acc: 0.9910 - val_loss: 0.2397 - val_acc: 0.9420\n",
            "Epoch 71/100\n",
            "100/100 [==============================] - 30s 304ms/step - loss: 0.0221 - acc: 0.9935 - val_loss: 0.2323 - val_acc: 0.9350\n",
            "Epoch 72/100\n",
            "100/100 [==============================] - 31s 306ms/step - loss: 0.0248 - acc: 0.9900 - val_loss: 0.2485 - val_acc: 0.9310\n",
            "Epoch 73/100\n",
            "100/100 [==============================] - 31s 308ms/step - loss: 0.0234 - acc: 0.9925 - val_loss: 0.4935 - val_acc: 0.9100\n",
            "Epoch 74/100\n",
            "100/100 [==============================] - 31s 310ms/step - loss: 0.0282 - acc: 0.9900 - val_loss: 0.2234 - val_acc: 0.9360\n",
            "Epoch 75/100\n",
            "100/100 [==============================] - 31s 308ms/step - loss: 0.0269 - acc: 0.9915 - val_loss: 0.2597 - val_acc: 0.9430\n",
            "Epoch 76/100\n",
            "100/100 [==============================] - 31s 307ms/step - loss: 0.0217 - acc: 0.9925 - val_loss: 0.2555 - val_acc: 0.9380\n",
            "Epoch 77/100\n",
            "100/100 [==============================] - 31s 308ms/step - loss: 0.0333 - acc: 0.9875 - val_loss: 0.2483 - val_acc: 0.9430\n",
            "Epoch 78/100\n",
            "100/100 [==============================] - 31s 307ms/step - loss: 0.0261 - acc: 0.9915 - val_loss: 0.2900 - val_acc: 0.9350\n",
            "Epoch 79/100\n",
            "100/100 [==============================] - 31s 308ms/step - loss: 0.0250 - acc: 0.9915 - val_loss: 0.2599 - val_acc: 0.9350\n",
            "Epoch 80/100\n",
            "100/100 [==============================] - 31s 307ms/step - loss: 0.0271 - acc: 0.9895 - val_loss: 0.5586 - val_acc: 0.8980\n",
            "Epoch 81/100\n",
            "100/100 [==============================] - 31s 307ms/step - loss: 0.0215 - acc: 0.9940 - val_loss: 0.2670 - val_acc: 0.9380\n",
            "Epoch 82/100\n",
            "100/100 [==============================] - 31s 306ms/step - loss: 0.0331 - acc: 0.9885 - val_loss: 0.2170 - val_acc: 0.9490\n",
            "Epoch 83/100\n",
            "100/100 [==============================] - 31s 307ms/step - loss: 0.0268 - acc: 0.9925 - val_loss: 0.2736 - val_acc: 0.9400\n",
            "Epoch 84/100\n",
            "100/100 [==============================] - 31s 308ms/step - loss: 0.0271 - acc: 0.9915 - val_loss: 0.2227 - val_acc: 0.9470\n",
            "Epoch 85/100\n",
            "100/100 [==============================] - 31s 307ms/step - loss: 0.0261 - acc: 0.9915 - val_loss: 0.3248 - val_acc: 0.9350\n",
            "Epoch 86/100\n",
            "100/100 [==============================] - 31s 308ms/step - loss: 0.0170 - acc: 0.9930 - val_loss: 0.2801 - val_acc: 0.9410\n",
            "Epoch 87/100\n",
            "100/100 [==============================] - 31s 308ms/step - loss: 0.0256 - acc: 0.9900 - val_loss: 0.2531 - val_acc: 0.9410\n",
            "Epoch 88/100\n",
            "100/100 [==============================] - 31s 308ms/step - loss: 0.0174 - acc: 0.9915 - val_loss: 0.2897 - val_acc: 0.9380\n",
            "Epoch 89/100\n",
            "100/100 [==============================] - 31s 306ms/step - loss: 0.0210 - acc: 0.9930 - val_loss: 0.3382 - val_acc: 0.9310\n",
            "Epoch 90/100\n",
            "100/100 [==============================] - 31s 307ms/step - loss: 0.0196 - acc: 0.9925 - val_loss: 0.2371 - val_acc: 0.9420\n",
            "Epoch 91/100\n",
            "100/100 [==============================] - 31s 308ms/step - loss: 0.0220 - acc: 0.9915 - val_loss: 0.2429 - val_acc: 0.9400\n",
            "Epoch 92/100\n",
            "100/100 [==============================] - 31s 307ms/step - loss: 0.0184 - acc: 0.9940 - val_loss: 0.2191 - val_acc: 0.9450\n",
            "Epoch 93/100\n",
            "100/100 [==============================] - 31s 309ms/step - loss: 0.0203 - acc: 0.9930 - val_loss: 0.2918 - val_acc: 0.9350\n",
            "Epoch 94/100\n",
            "100/100 [==============================] - 31s 307ms/step - loss: 0.0189 - acc: 0.9930 - val_loss: 0.2818 - val_acc: 0.9430\n",
            "Epoch 95/100\n",
            "100/100 [==============================] - 31s 310ms/step - loss: 0.0220 - acc: 0.9935 - val_loss: 0.2687 - val_acc: 0.9390\n",
            "Epoch 96/100\n",
            "100/100 [==============================] - 31s 311ms/step - loss: 0.0157 - acc: 0.9960 - val_loss: 0.2640 - val_acc: 0.9400\n",
            "Epoch 97/100\n",
            "100/100 [==============================] - 31s 309ms/step - loss: 0.0126 - acc: 0.9955 - val_loss: 0.2594 - val_acc: 0.9420\n",
            "Epoch 98/100\n",
            "100/100 [==============================] - 31s 310ms/step - loss: 0.0123 - acc: 0.9965 - val_loss: 0.2314 - val_acc: 0.9400\n",
            "Epoch 99/100\n",
            "100/100 [==============================] - 31s 309ms/step - loss: 0.0196 - acc: 0.9930 - val_loss: 0.2664 - val_acc: 0.9380\n",
            "Epoch 100/100\n",
            "100/100 [==============================] - 31s 310ms/step - loss: 0.0232 - acc: 0.9940 - val_loss: 0.3165 - val_acc: 0.9380\n"
          ]
        }
      ]
    },
    {
      "cell_type": "code",
      "metadata": {
        "id": "skbWMHMwfXGG",
        "colab": {
          "base_uri": "https://localhost:8080/",
          "height": 545
        },
        "outputId": "3d9676b9-9378-46f1-d35d-368a9a8bedbe"
      },
      "source": [
        "# Plotting Results\n",
        "acc = history.history['acc']\n",
        "val_acc = history.history['val_acc']\n",
        "loss = history.history['loss']\n",
        "val_loss = history.history['val_loss']\n",
        "\n",
        "epochs = range(1,len(acc) + 1)\n",
        "\n",
        "plt.plot(epochs, acc, 'bo', label='Training Accuracy')\n",
        "plt.plot(epochs, val_acc, 'b', label='Validation Accuracy')\n",
        "plt.title('Training and Validation Accuracy')\n",
        "plt.legend()\n",
        "\n",
        "plt.figure()\n",
        "\n",
        "plt.plot(epochs, loss, 'bo', label='Training Loss')\n",
        "plt.plot(epochs, val_loss, 'b', label='Validation_loss')\n",
        "plt.title(\"Training and Validation Loss\")\n",
        "\n",
        "plt.legend()\n",
        "plt.show()"
      ],
      "id": "skbWMHMwfXGG",
      "execution_count": 30,
      "outputs": [
        {
          "output_type": "display_data",
          "data": {
            "image/png": "[encoded data removed]",
            "text/plain": [
              "<Figure size 432x288 with 1 Axes>"
            ]
          },
          "metadata": {
            "needs_background": "light"
          }
        },
        {
          "output_type": "display_data",
          "data": {
            "image/png": "[encoded data removed]",
            "text/plain": [
              "<Figure size 432x288 with 1 Axes>"
            ]
          },
          "metadata": {
            "needs_background": "light"
          }
        }
      ]
    },
    {
      "cell_type": "code",
      "metadata": {
        "id": "jCUey10NfclV",
        "colab": {
          "base_uri": "https://localhost:8080/",
          "height": 545
        },
        "outputId": "487b9835-644a-42e8-bce3-8361bbc3b055"
      },
      "source": [
        "# Curves are so noisy we smooth it\n",
        "def smooth_curve(points, factor=0.8):\n",
        "  smoothed_points = []\n",
        "  for point in points:\n",
        "    if smoothed_points: \n",
        "      previous = smoothed_points[-1]\n",
        "      smoothed_points.append(previous * factor + point * (1 - factor))\n",
        "    else:\n",
        "      smoothed_points.append(point)\n",
        "  return smoothed_points\n",
        "plt.plot(epochs,smooth_curve(acc), 'bo', label='Smoothed training acc')\n",
        "plt.plot(epochs,smooth_curve(val_acc), 'b', label='Smoothed validation acc')\n",
        "plt.title('Training and validation accuracy')\n",
        "plt.legend()\n",
        "plt.figure()\n",
        "plt.plot(epochs,smooth_curve(loss), 'bo', label='Smoothed training loss')\n",
        "plt.plot(epochs,smooth_curve(val_loss), 'b', label='Smoothed validation loss')\n",
        "plt.title('Training and validation loss')\n",
        "plt.legend()\n",
        "plt.show()"
      ],
      "id": "jCUey10NfclV",
      "execution_count": 31,
      "outputs": [
        {
          "output_type": "display_data",
          "data": {
            "image/png": "[encoded data removed]",
            "text/plain": [
              "<Figure size 432x288 with 1 Axes>"
            ]
          },
          "metadata": {
            "needs_background": "light"
          }
        },
        {
          "output_type": "display_data",
          "data": {
            "image/png": "[encoded data removed]",
            "text/plain": [
              "<Figure size 432x288 with 1 Axes>"
            ]
          },
          "metadata": {
            "needs_background": "light"
          }
        }
      ]
    },
    {
      "cell_type": "code",
      "metadata": {
        "id": "FBaFHuaNgAzt",
        "colab": {
          "base_uri": "https://localhost:8080/"
        },
        "outputId": "e4b8a908-1eca-4ab0-dcca-c7569cbf7949"
      },
      "source": [
        "# Test the model on unseen data\n",
        "test_generator = test_datagen.flow_from_directory(test_dir,\n",
        "                                                  target_size=(150, 150),\n",
        "                                                  batch_size=20,\n",
        "                                                  class_mode='binary')\n",
        "test_loss, test_acc = model.evaluate_generator(test_generator, steps=50)\n",
        "print('test acc:', test_acc)"
      ],
      "id": "FBaFHuaNgAzt",
      "execution_count": 32,
      "outputs": [
        {
          "output_type": "stream",
          "name": "stdout",
          "text": [
            "Found 1000 images belonging to 2 classes.\n"
          ]
        },
        {
          "output_type": "stream",
          "name": "stderr",
          "text": [
            "/usr/local/lib/python3.7/dist-packages/keras/engine/training.py:2006: UserWarning: `Model.evaluate_generator` is deprecated and will be removed in a future version. Please use `Model.evaluate`, which supports generators.\n",
            "  warnings.warn('`Model.evaluate_generator` is deprecated and '\n"
          ]
        },
        {
          "output_type": "stream",
          "name": "stdout",
          "text": [
            "test acc: 0.9369999766349792\n"
          ]
        }
      ]
    },
    {
      "cell_type": "code",
      "metadata": {
        "id": "zqrFcD78gOU1"
      },
      "source": [
        ""
      ],
      "id": "zqrFcD78gOU1",
      "execution_count": null,
      "outputs": []
    }
  ]
}